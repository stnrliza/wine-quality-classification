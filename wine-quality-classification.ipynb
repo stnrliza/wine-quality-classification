{
  "nbformat": 4,
  "nbformat_minor": 0,
  "metadata": {
    "colab": {
      "provenance": [],
      "gpuType": "T4"
    },
    "kernelspec": {
      "name": "python3",
      "display_name": "Python 3"
    },
    "language_info": {
      "name": "python"
    },
    "accelerator": "GPU"
  },
  "cells": [
    {
      "cell_type": "markdown",
      "source": [
        "# **1. Data Understanding**\n",
        "\n",
        "Pada tahap ini, kita akan memulai dengan memuat dataset kualitas anggur merah, memeriksa struktur dasarnya, dan melakukan eksplorasi awal untuk memahami karakteristik data. Langkah ini sangat penting untuk mengidentifikasi potensi masalah seperti nilai yang hilang, tipe data yang tidak sesuai, atau anomali lainnya sebelum melakukan preprocessing data.\n",
        "\n",
        "### **1.1. Mengimpor Library**\n",
        "Mengimpor library yang dibutuhkan untuk menjalankan proyek."
      ],
      "metadata": {
        "id": "HZPDB4SUgLJk"
      }
    },
    {
      "cell_type": "code",
      "execution_count": null,
      "metadata": {
        "id": "tsD0cYYmKBU5"
      },
      "outputs": [],
      "source": [
        "import pandas as pd\n",
        "import numpy as np\n",
        "import matplotlib.pyplot as plt\n",
        "import seaborn as sns\n",
        "from google.colab import files\n",
        "from sklearn.model_selection import train_test_split\n",
        "from sklearn.preprocessing import StandardScaler\n",
        "from sklearn.linear_model import LogisticRegression\n",
        "from sklearn.metrics import accuracy_score, classification_report, confusion_matrix\n",
        "from sklearn.ensemble import RandomForestClassifier\n",
        "from sklearn.model_selection import GridSearchCV\n",
        "import xgboost as xgb"
      ]
    },
    {
      "cell_type": "markdown",
      "source": [
        "### **1.2 Meng-upload Dataset**\n",
        "Dataset yang digunakan diunggah ke lingkungan Google Colab dan diperoleh dari situs [UCI Machine Learning Repository](https://archive.ics.uci.edu/dataset/186/wine+quality). Untuk pelatihan kali ini, digunakan file *winequality-red.csv*.\n",
        "\n",
        "Dataset 'Wine Quality Red' dimuat dengan menggunakan fungsi `pd.read_csv()` dengan argumen `sep=';'`. Setelah berhasil dimuat, beberapa baris awal dari DataFrame ditampilkan menggunakan `df.head()` untuk memberikan gambaran awal mengenai struktur dan isi data. Langkah ini berguna untuk mengamati nama-nama kolom serta nilai-nilai awal yang terkandung di dalamnya."
      ],
      "metadata": {
        "id": "Jh_JjuaghQAr"
      }
    },
    {
      "cell_type": "code",
      "source": [
        "uploaded = files.upload()"
      ],
      "metadata": {
        "colab": {
          "base_uri": "https://localhost:8080/",
          "height": 38
        },
        "id": "XBOA6qDbKPUD",
        "outputId": "060e039b-f8ba-4e8c-d73a-3fc960a41a8d"
      },
      "execution_count": null,
      "outputs": [
        {
          "output_type": "display_data",
          "data": {
            "text/plain": [
              "<IPython.core.display.HTML object>"
            ],
            "text/html": [
              "\n",
              "     <input type=\"file\" id=\"files-dad44561-a2d8-49d1-9ba0-3d9f4cfde841\" name=\"files[]\" multiple disabled\n",
              "        style=\"border:none\" />\n",
              "     <output id=\"result-dad44561-a2d8-49d1-9ba0-3d9f4cfde841\">\n",
              "      Upload widget is only available when the cell has been executed in the\n",
              "      current browser session. Please rerun this cell to enable.\n",
              "      </output>\n",
              "      <script>// Copyright 2017 Google LLC\n",
              "//\n",
              "// Licensed under the Apache License, Version 2.0 (the \"License\");\n",
              "// you may not use this file except in compliance with the License.\n",
              "// You may obtain a copy of the License at\n",
              "//\n",
              "//      http://www.apache.org/licenses/LICENSE-2.0\n",
              "//\n",
              "// Unless required by applicable law or agreed to in writing, software\n",
              "// distributed under the License is distributed on an \"AS IS\" BASIS,\n",
              "// WITHOUT WARRANTIES OR CONDITIONS OF ANY KIND, either express or implied.\n",
              "// See the License for the specific language governing permissions and\n",
              "// limitations under the License.\n",
              "\n",
              "/**\n",
              " * @fileoverview Helpers for google.colab Python module.\n",
              " */\n",
              "(function(scope) {\n",
              "function span(text, styleAttributes = {}) {\n",
              "  const element = document.createElement('span');\n",
              "  element.textContent = text;\n",
              "  for (const key of Object.keys(styleAttributes)) {\n",
              "    element.style[key] = styleAttributes[key];\n",
              "  }\n",
              "  return element;\n",
              "}\n",
              "\n",
              "// Max number of bytes which will be uploaded at a time.\n",
              "const MAX_PAYLOAD_SIZE = 100 * 1024;\n",
              "\n",
              "function _uploadFiles(inputId, outputId) {\n",
              "  const steps = uploadFilesStep(inputId, outputId);\n",
              "  const outputElement = document.getElementById(outputId);\n",
              "  // Cache steps on the outputElement to make it available for the next call\n",
              "  // to uploadFilesContinue from Python.\n",
              "  outputElement.steps = steps;\n",
              "\n",
              "  return _uploadFilesContinue(outputId);\n",
              "}\n",
              "\n",
              "// This is roughly an async generator (not supported in the browser yet),\n",
              "// where there are multiple asynchronous steps and the Python side is going\n",
              "// to poll for completion of each step.\n",
              "// This uses a Promise to block the python side on completion of each step,\n",
              "// then passes the result of the previous step as the input to the next step.\n",
              "function _uploadFilesContinue(outputId) {\n",
              "  const outputElement = document.getElementById(outputId);\n",
              "  const steps = outputElement.steps;\n",
              "\n",
              "  const next = steps.next(outputElement.lastPromiseValue);\n",
              "  return Promise.resolve(next.value.promise).then((value) => {\n",
              "    // Cache the last promise value to make it available to the next\n",
              "    // step of the generator.\n",
              "    outputElement.lastPromiseValue = value;\n",
              "    return next.value.response;\n",
              "  });\n",
              "}\n",
              "\n",
              "/**\n",
              " * Generator function which is called between each async step of the upload\n",
              " * process.\n",
              " * @param {string} inputId Element ID of the input file picker element.\n",
              " * @param {string} outputId Element ID of the output display.\n",
              " * @return {!Iterable<!Object>} Iterable of next steps.\n",
              " */\n",
              "function* uploadFilesStep(inputId, outputId) {\n",
              "  const inputElement = document.getElementById(inputId);\n",
              "  inputElement.disabled = false;\n",
              "\n",
              "  const outputElement = document.getElementById(outputId);\n",
              "  outputElement.innerHTML = '';\n",
              "\n",
              "  const pickedPromise = new Promise((resolve) => {\n",
              "    inputElement.addEventListener('change', (e) => {\n",
              "      resolve(e.target.files);\n",
              "    });\n",
              "  });\n",
              "\n",
              "  const cancel = document.createElement('button');\n",
              "  inputElement.parentElement.appendChild(cancel);\n",
              "  cancel.textContent = 'Cancel upload';\n",
              "  const cancelPromise = new Promise((resolve) => {\n",
              "    cancel.onclick = () => {\n",
              "      resolve(null);\n",
              "    };\n",
              "  });\n",
              "\n",
              "  // Wait for the user to pick the files.\n",
              "  const files = yield {\n",
              "    promise: Promise.race([pickedPromise, cancelPromise]),\n",
              "    response: {\n",
              "      action: 'starting',\n",
              "    }\n",
              "  };\n",
              "\n",
              "  cancel.remove();\n",
              "\n",
              "  // Disable the input element since further picks are not allowed.\n",
              "  inputElement.disabled = true;\n",
              "\n",
              "  if (!files) {\n",
              "    return {\n",
              "      response: {\n",
              "        action: 'complete',\n",
              "      }\n",
              "    };\n",
              "  }\n",
              "\n",
              "  for (const file of files) {\n",
              "    const li = document.createElement('li');\n",
              "    li.append(span(file.name, {fontWeight: 'bold'}));\n",
              "    li.append(span(\n",
              "        `(${file.type || 'n/a'}) - ${file.size} bytes, ` +\n",
              "        `last modified: ${\n",
              "            file.lastModifiedDate ? file.lastModifiedDate.toLocaleDateString() :\n",
              "                                    'n/a'} - `));\n",
              "    const percent = span('0% done');\n",
              "    li.appendChild(percent);\n",
              "\n",
              "    outputElement.appendChild(li);\n",
              "\n",
              "    const fileDataPromise = new Promise((resolve) => {\n",
              "      const reader = new FileReader();\n",
              "      reader.onload = (e) => {\n",
              "        resolve(e.target.result);\n",
              "      };\n",
              "      reader.readAsArrayBuffer(file);\n",
              "    });\n",
              "    // Wait for the data to be ready.\n",
              "    let fileData = yield {\n",
              "      promise: fileDataPromise,\n",
              "      response: {\n",
              "        action: 'continue',\n",
              "      }\n",
              "    };\n",
              "\n",
              "    // Use a chunked sending to avoid message size limits. See b/62115660.\n",
              "    let position = 0;\n",
              "    do {\n",
              "      const length = Math.min(fileData.byteLength - position, MAX_PAYLOAD_SIZE);\n",
              "      const chunk = new Uint8Array(fileData, position, length);\n",
              "      position += length;\n",
              "\n",
              "      const base64 = btoa(String.fromCharCode.apply(null, chunk));\n",
              "      yield {\n",
              "        response: {\n",
              "          action: 'append',\n",
              "          file: file.name,\n",
              "          data: base64,\n",
              "        },\n",
              "      };\n",
              "\n",
              "      let percentDone = fileData.byteLength === 0 ?\n",
              "          100 :\n",
              "          Math.round((position / fileData.byteLength) * 100);\n",
              "      percent.textContent = `${percentDone}% done`;\n",
              "\n",
              "    } while (position < fileData.byteLength);\n",
              "  }\n",
              "\n",
              "  // All done.\n",
              "  yield {\n",
              "    response: {\n",
              "      action: 'complete',\n",
              "    }\n",
              "  };\n",
              "}\n",
              "\n",
              "scope.google = scope.google || {};\n",
              "scope.google.colab = scope.google.colab || {};\n",
              "scope.google.colab._files = {\n",
              "  _uploadFiles,\n",
              "  _uploadFilesContinue,\n",
              "};\n",
              "})(self);\n",
              "</script> "
            ]
          },
          "metadata": {}
        }
      ]
    },
    {
      "cell_type": "code",
      "source": [
        "df = pd.read_csv('winequality-red.csv', sep=';')"
      ],
      "metadata": {
        "id": "Ysz8icpoKWz0"
      },
      "execution_count": null,
      "outputs": []
    },
    {
      "cell_type": "code",
      "source": [
        "df.head()"
      ],
      "metadata": {
        "colab": {
          "base_uri": "https://localhost:8080/",
          "height": 223
        },
        "id": "D2fXeifNKZPH",
        "outputId": "141a09e6-957c-4abb-a000-044484ca4a51"
      },
      "execution_count": null,
      "outputs": [
        {
          "output_type": "execute_result",
          "data": {
            "text/plain": [
              "   fixed acidity  volatile acidity  citric acid  residual sugar  chlorides  \\\n",
              "0            7.4              0.70         0.00             1.9      0.076   \n",
              "1            7.8              0.88         0.00             2.6      0.098   \n",
              "2            7.8              0.76         0.04             2.3      0.092   \n",
              "3           11.2              0.28         0.56             1.9      0.075   \n",
              "4            7.4              0.70         0.00             1.9      0.076   \n",
              "\n",
              "   free sulfur dioxide  total sulfur dioxide  density    pH  sulphates  \\\n",
              "0                 11.0                  34.0   0.9978  3.51       0.56   \n",
              "1                 25.0                  67.0   0.9968  3.20       0.68   \n",
              "2                 15.0                  54.0   0.9970  3.26       0.65   \n",
              "3                 17.0                  60.0   0.9980  3.16       0.58   \n",
              "4                 11.0                  34.0   0.9978  3.51       0.56   \n",
              "\n",
              "   alcohol  quality  \n",
              "0      9.4        5  \n",
              "1      9.8        5  \n",
              "2      9.8        5  \n",
              "3      9.8        6  \n",
              "4      9.4        5  "
            ],
            "text/html": [
              "\n",
              "  <div id=\"df-63a01761-43db-404d-b763-cd7eebe71f26\" class=\"colab-df-container\">\n",
              "    <div>\n",
              "<style scoped>\n",
              "    .dataframe tbody tr th:only-of-type {\n",
              "        vertical-align: middle;\n",
              "    }\n",
              "\n",
              "    .dataframe tbody tr th {\n",
              "        vertical-align: top;\n",
              "    }\n",
              "\n",
              "    .dataframe thead th {\n",
              "        text-align: right;\n",
              "    }\n",
              "</style>\n",
              "<table border=\"1\" class=\"dataframe\">\n",
              "  <thead>\n",
              "    <tr style=\"text-align: right;\">\n",
              "      <th></th>\n",
              "      <th>fixed acidity</th>\n",
              "      <th>volatile acidity</th>\n",
              "      <th>citric acid</th>\n",
              "      <th>residual sugar</th>\n",
              "      <th>chlorides</th>\n",
              "      <th>free sulfur dioxide</th>\n",
              "      <th>total sulfur dioxide</th>\n",
              "      <th>density</th>\n",
              "      <th>pH</th>\n",
              "      <th>sulphates</th>\n",
              "      <th>alcohol</th>\n",
              "      <th>quality</th>\n",
              "    </tr>\n",
              "  </thead>\n",
              "  <tbody>\n",
              "    <tr>\n",
              "      <th>0</th>\n",
              "      <td>7.4</td>\n",
              "      <td>0.70</td>\n",
              "      <td>0.00</td>\n",
              "      <td>1.9</td>\n",
              "      <td>0.076</td>\n",
              "      <td>11.0</td>\n",
              "      <td>34.0</td>\n",
              "      <td>0.9978</td>\n",
              "      <td>3.51</td>\n",
              "      <td>0.56</td>\n",
              "      <td>9.4</td>\n",
              "      <td>5</td>\n",
              "    </tr>\n",
              "    <tr>\n",
              "      <th>1</th>\n",
              "      <td>7.8</td>\n",
              "      <td>0.88</td>\n",
              "      <td>0.00</td>\n",
              "      <td>2.6</td>\n",
              "      <td>0.098</td>\n",
              "      <td>25.0</td>\n",
              "      <td>67.0</td>\n",
              "      <td>0.9968</td>\n",
              "      <td>3.20</td>\n",
              "      <td>0.68</td>\n",
              "      <td>9.8</td>\n",
              "      <td>5</td>\n",
              "    </tr>\n",
              "    <tr>\n",
              "      <th>2</th>\n",
              "      <td>7.8</td>\n",
              "      <td>0.76</td>\n",
              "      <td>0.04</td>\n",
              "      <td>2.3</td>\n",
              "      <td>0.092</td>\n",
              "      <td>15.0</td>\n",
              "      <td>54.0</td>\n",
              "      <td>0.9970</td>\n",
              "      <td>3.26</td>\n",
              "      <td>0.65</td>\n",
              "      <td>9.8</td>\n",
              "      <td>5</td>\n",
              "    </tr>\n",
              "    <tr>\n",
              "      <th>3</th>\n",
              "      <td>11.2</td>\n",
              "      <td>0.28</td>\n",
              "      <td>0.56</td>\n",
              "      <td>1.9</td>\n",
              "      <td>0.075</td>\n",
              "      <td>17.0</td>\n",
              "      <td>60.0</td>\n",
              "      <td>0.9980</td>\n",
              "      <td>3.16</td>\n",
              "      <td>0.58</td>\n",
              "      <td>9.8</td>\n",
              "      <td>6</td>\n",
              "    </tr>\n",
              "    <tr>\n",
              "      <th>4</th>\n",
              "      <td>7.4</td>\n",
              "      <td>0.70</td>\n",
              "      <td>0.00</td>\n",
              "      <td>1.9</td>\n",
              "      <td>0.076</td>\n",
              "      <td>11.0</td>\n",
              "      <td>34.0</td>\n",
              "      <td>0.9978</td>\n",
              "      <td>3.51</td>\n",
              "      <td>0.56</td>\n",
              "      <td>9.4</td>\n",
              "      <td>5</td>\n",
              "    </tr>\n",
              "  </tbody>\n",
              "</table>\n",
              "</div>\n",
              "    <div class=\"colab-df-buttons\">\n",
              "\n",
              "  <div class=\"colab-df-container\">\n",
              "    <button class=\"colab-df-convert\" onclick=\"convertToInteractive('df-63a01761-43db-404d-b763-cd7eebe71f26')\"\n",
              "            title=\"Convert this dataframe to an interactive table.\"\n",
              "            style=\"display:none;\">\n",
              "\n",
              "  <svg xmlns=\"http://www.w3.org/2000/svg\" height=\"24px\" viewBox=\"0 -960 960 960\">\n",
              "    <path d=\"M120-120v-720h720v720H120Zm60-500h600v-160H180v160Zm220 220h160v-160H400v160Zm0 220h160v-160H400v160ZM180-400h160v-160H180v160Zm440 0h160v-160H620v160ZM180-180h160v-160H180v160Zm440 0h160v-160H620v160Z\"/>\n",
              "  </svg>\n",
              "    </button>\n",
              "\n",
              "  <style>\n",
              "    .colab-df-container {\n",
              "      display:flex;\n",
              "      gap: 12px;\n",
              "    }\n",
              "\n",
              "    .colab-df-convert {\n",
              "      background-color: #E8F0FE;\n",
              "      border: none;\n",
              "      border-radius: 50%;\n",
              "      cursor: pointer;\n",
              "      display: none;\n",
              "      fill: #1967D2;\n",
              "      height: 32px;\n",
              "      padding: 0 0 0 0;\n",
              "      width: 32px;\n",
              "    }\n",
              "\n",
              "    .colab-df-convert:hover {\n",
              "      background-color: #E2EBFA;\n",
              "      box-shadow: 0px 1px 2px rgba(60, 64, 67, 0.3), 0px 1px 3px 1px rgba(60, 64, 67, 0.15);\n",
              "      fill: #174EA6;\n",
              "    }\n",
              "\n",
              "    .colab-df-buttons div {\n",
              "      margin-bottom: 4px;\n",
              "    }\n",
              "\n",
              "    [theme=dark] .colab-df-convert {\n",
              "      background-color: #3B4455;\n",
              "      fill: #D2E3FC;\n",
              "    }\n",
              "\n",
              "    [theme=dark] .colab-df-convert:hover {\n",
              "      background-color: #434B5C;\n",
              "      box-shadow: 0px 1px 3px 1px rgba(0, 0, 0, 0.15);\n",
              "      filter: drop-shadow(0px 1px 2px rgba(0, 0, 0, 0.3));\n",
              "      fill: #FFFFFF;\n",
              "    }\n",
              "  </style>\n",
              "\n",
              "    <script>\n",
              "      const buttonEl =\n",
              "        document.querySelector('#df-63a01761-43db-404d-b763-cd7eebe71f26 button.colab-df-convert');\n",
              "      buttonEl.style.display =\n",
              "        google.colab.kernel.accessAllowed ? 'block' : 'none';\n",
              "\n",
              "      async function convertToInteractive(key) {\n",
              "        const element = document.querySelector('#df-63a01761-43db-404d-b763-cd7eebe71f26');\n",
              "        const dataTable =\n",
              "          await google.colab.kernel.invokeFunction('convertToInteractive',\n",
              "                                                    [key], {});\n",
              "        if (!dataTable) return;\n",
              "\n",
              "        const docLinkHtml = 'Like what you see? Visit the ' +\n",
              "          '<a target=\"_blank\" href=https://colab.research.google.com/notebooks/data_table.ipynb>data table notebook</a>'\n",
              "          + ' to learn more about interactive tables.';\n",
              "        element.innerHTML = '';\n",
              "        dataTable['output_type'] = 'display_data';\n",
              "        await google.colab.output.renderOutput(dataTable, element);\n",
              "        const docLink = document.createElement('div');\n",
              "        docLink.innerHTML = docLinkHtml;\n",
              "        element.appendChild(docLink);\n",
              "      }\n",
              "    </script>\n",
              "  </div>\n",
              "\n",
              "\n",
              "    <div id=\"df-aff3387c-dd89-4fba-a3c6-91e63faabfbf\">\n",
              "      <button class=\"colab-df-quickchart\" onclick=\"quickchart('df-aff3387c-dd89-4fba-a3c6-91e63faabfbf')\"\n",
              "                title=\"Suggest charts\"\n",
              "                style=\"display:none;\">\n",
              "\n",
              "<svg xmlns=\"http://www.w3.org/2000/svg\" height=\"24px\"viewBox=\"0 0 24 24\"\n",
              "     width=\"24px\">\n",
              "    <g>\n",
              "        <path d=\"M19 3H5c-1.1 0-2 .9-2 2v14c0 1.1.9 2 2 2h14c1.1 0 2-.9 2-2V5c0-1.1-.9-2-2-2zM9 17H7v-7h2v7zm4 0h-2V7h2v10zm4 0h-2v-4h2v4z\"/>\n",
              "    </g>\n",
              "</svg>\n",
              "      </button>\n",
              "\n",
              "<style>\n",
              "  .colab-df-quickchart {\n",
              "      --bg-color: #E8F0FE;\n",
              "      --fill-color: #1967D2;\n",
              "      --hover-bg-color: #E2EBFA;\n",
              "      --hover-fill-color: #174EA6;\n",
              "      --disabled-fill-color: #AAA;\n",
              "      --disabled-bg-color: #DDD;\n",
              "  }\n",
              "\n",
              "  [theme=dark] .colab-df-quickchart {\n",
              "      --bg-color: #3B4455;\n",
              "      --fill-color: #D2E3FC;\n",
              "      --hover-bg-color: #434B5C;\n",
              "      --hover-fill-color: #FFFFFF;\n",
              "      --disabled-bg-color: #3B4455;\n",
              "      --disabled-fill-color: #666;\n",
              "  }\n",
              "\n",
              "  .colab-df-quickchart {\n",
              "    background-color: var(--bg-color);\n",
              "    border: none;\n",
              "    border-radius: 50%;\n",
              "    cursor: pointer;\n",
              "    display: none;\n",
              "    fill: var(--fill-color);\n",
              "    height: 32px;\n",
              "    padding: 0;\n",
              "    width: 32px;\n",
              "  }\n",
              "\n",
              "  .colab-df-quickchart:hover {\n",
              "    background-color: var(--hover-bg-color);\n",
              "    box-shadow: 0 1px 2px rgba(60, 64, 67, 0.3), 0 1px 3px 1px rgba(60, 64, 67, 0.15);\n",
              "    fill: var(--button-hover-fill-color);\n",
              "  }\n",
              "\n",
              "  .colab-df-quickchart-complete:disabled,\n",
              "  .colab-df-quickchart-complete:disabled:hover {\n",
              "    background-color: var(--disabled-bg-color);\n",
              "    fill: var(--disabled-fill-color);\n",
              "    box-shadow: none;\n",
              "  }\n",
              "\n",
              "  .colab-df-spinner {\n",
              "    border: 2px solid var(--fill-color);\n",
              "    border-color: transparent;\n",
              "    border-bottom-color: var(--fill-color);\n",
              "    animation:\n",
              "      spin 1s steps(1) infinite;\n",
              "  }\n",
              "\n",
              "  @keyframes spin {\n",
              "    0% {\n",
              "      border-color: transparent;\n",
              "      border-bottom-color: var(--fill-color);\n",
              "      border-left-color: var(--fill-color);\n",
              "    }\n",
              "    20% {\n",
              "      border-color: transparent;\n",
              "      border-left-color: var(--fill-color);\n",
              "      border-top-color: var(--fill-color);\n",
              "    }\n",
              "    30% {\n",
              "      border-color: transparent;\n",
              "      border-left-color: var(--fill-color);\n",
              "      border-top-color: var(--fill-color);\n",
              "      border-right-color: var(--fill-color);\n",
              "    }\n",
              "    40% {\n",
              "      border-color: transparent;\n",
              "      border-right-color: var(--fill-color);\n",
              "      border-top-color: var(--fill-color);\n",
              "    }\n",
              "    60% {\n",
              "      border-color: transparent;\n",
              "      border-right-color: var(--fill-color);\n",
              "    }\n",
              "    80% {\n",
              "      border-color: transparent;\n",
              "      border-right-color: var(--fill-color);\n",
              "      border-bottom-color: var(--fill-color);\n",
              "    }\n",
              "    90% {\n",
              "      border-color: transparent;\n",
              "      border-bottom-color: var(--fill-color);\n",
              "    }\n",
              "  }\n",
              "</style>\n",
              "\n",
              "      <script>\n",
              "        async function quickchart(key) {\n",
              "          const quickchartButtonEl =\n",
              "            document.querySelector('#' + key + ' button');\n",
              "          quickchartButtonEl.disabled = true;  // To prevent multiple clicks.\n",
              "          quickchartButtonEl.classList.add('colab-df-spinner');\n",
              "          try {\n",
              "            const charts = await google.colab.kernel.invokeFunction(\n",
              "                'suggestCharts', [key], {});\n",
              "          } catch (error) {\n",
              "            console.error('Error during call to suggestCharts:', error);\n",
              "          }\n",
              "          quickchartButtonEl.classList.remove('colab-df-spinner');\n",
              "          quickchartButtonEl.classList.add('colab-df-quickchart-complete');\n",
              "        }\n",
              "        (() => {\n",
              "          let quickchartButtonEl =\n",
              "            document.querySelector('#df-aff3387c-dd89-4fba-a3c6-91e63faabfbf button');\n",
              "          quickchartButtonEl.style.display =\n",
              "            google.colab.kernel.accessAllowed ? 'block' : 'none';\n",
              "        })();\n",
              "      </script>\n",
              "    </div>\n",
              "\n",
              "    </div>\n",
              "  </div>\n"
            ],
            "application/vnd.google.colaboratory.intrinsic+json": {
              "type": "dataframe",
              "variable_name": "df",
              "summary": "{\n  \"name\": \"df\",\n  \"rows\": 1599,\n  \"fields\": [\n    {\n      \"column\": \"fixed acidity\",\n      \"properties\": {\n        \"dtype\": \"number\",\n        \"std\": 1.7410963181277006,\n        \"min\": 4.6,\n        \"max\": 15.9,\n        \"num_unique_values\": 96,\n        \"samples\": [\n          5.3,\n          12.7,\n          12.6\n        ],\n        \"semantic_type\": \"\",\n        \"description\": \"\"\n      }\n    },\n    {\n      \"column\": \"volatile acidity\",\n      \"properties\": {\n        \"dtype\": \"number\",\n        \"std\": 0.17905970415353498,\n        \"min\": 0.12,\n        \"max\": 1.58,\n        \"num_unique_values\": 143,\n        \"samples\": [\n          1.025,\n          0.4,\n          0.87\n        ],\n        \"semantic_type\": \"\",\n        \"description\": \"\"\n      }\n    },\n    {\n      \"column\": \"citric acid\",\n      \"properties\": {\n        \"dtype\": \"number\",\n        \"std\": 0.19480113740531785,\n        \"min\": 0.0,\n        \"max\": 1.0,\n        \"num_unique_values\": 80,\n        \"samples\": [\n          0.37,\n          0.0,\n          0.09\n        ],\n        \"semantic_type\": \"\",\n        \"description\": \"\"\n      }\n    },\n    {\n      \"column\": \"residual sugar\",\n      \"properties\": {\n        \"dtype\": \"number\",\n        \"std\": 1.4099280595072805,\n        \"min\": 0.9,\n        \"max\": 15.5,\n        \"num_unique_values\": 91,\n        \"samples\": [\n          11.0,\n          3.0,\n          15.5\n        ],\n        \"semantic_type\": \"\",\n        \"description\": \"\"\n      }\n    },\n    {\n      \"column\": \"chlorides\",\n      \"properties\": {\n        \"dtype\": \"number\",\n        \"std\": 0.047065302010090154,\n        \"min\": 0.012,\n        \"max\": 0.611,\n        \"num_unique_values\": 153,\n        \"samples\": [\n          0.096,\n          0.343,\n          0.159\n        ],\n        \"semantic_type\": \"\",\n        \"description\": \"\"\n      }\n    },\n    {\n      \"column\": \"free sulfur dioxide\",\n      \"properties\": {\n        \"dtype\": \"number\",\n        \"std\": 10.46015696980973,\n        \"min\": 1.0,\n        \"max\": 72.0,\n        \"num_unique_values\": 60,\n        \"samples\": [\n          11.0,\n          9.0,\n          32.0\n        ],\n        \"semantic_type\": \"\",\n        \"description\": \"\"\n      }\n    },\n    {\n      \"column\": \"total sulfur dioxide\",\n      \"properties\": {\n        \"dtype\": \"number\",\n        \"std\": 32.89532447829901,\n        \"min\": 6.0,\n        \"max\": 289.0,\n        \"num_unique_values\": 144,\n        \"samples\": [\n          68.0,\n          35.0,\n          101.0\n        ],\n        \"semantic_type\": \"\",\n        \"description\": \"\"\n      }\n    },\n    {\n      \"column\": \"density\",\n      \"properties\": {\n        \"dtype\": \"number\",\n        \"std\": 0.0018873339538425559,\n        \"min\": 0.99007,\n        \"max\": 1.00369,\n        \"num_unique_values\": 436,\n        \"samples\": [\n          0.99974,\n          1.0001,\n          0.99471\n        ],\n        \"semantic_type\": \"\",\n        \"description\": \"\"\n      }\n    },\n    {\n      \"column\": \"pH\",\n      \"properties\": {\n        \"dtype\": \"number\",\n        \"std\": 0.15438646490354266,\n        \"min\": 2.74,\n        \"max\": 4.01,\n        \"num_unique_values\": 89,\n        \"samples\": [\n          3.07,\n          3.0,\n          3.15\n        ],\n        \"semantic_type\": \"\",\n        \"description\": \"\"\n      }\n    },\n    {\n      \"column\": \"sulphates\",\n      \"properties\": {\n        \"dtype\": \"number\",\n        \"std\": 0.16950697959010977,\n        \"min\": 0.33,\n        \"max\": 2.0,\n        \"num_unique_values\": 96,\n        \"samples\": [\n          1.07,\n          1.04,\n          1.18\n        ],\n        \"semantic_type\": \"\",\n        \"description\": \"\"\n      }\n    },\n    {\n      \"column\": \"alcohol\",\n      \"properties\": {\n        \"dtype\": \"number\",\n        \"std\": 1.0656675818473926,\n        \"min\": 8.4,\n        \"max\": 14.9,\n        \"num_unique_values\": 65,\n        \"samples\": [\n          8.5,\n          9.95,\n          9.4\n        ],\n        \"semantic_type\": \"\",\n        \"description\": \"\"\n      }\n    },\n    {\n      \"column\": \"quality\",\n      \"properties\": {\n        \"dtype\": \"number\",\n        \"std\": 0,\n        \"min\": 3,\n        \"max\": 8,\n        \"num_unique_values\": 6,\n        \"samples\": [\n          5,\n          6,\n          3\n        ],\n        \"semantic_type\": \"\",\n        \"description\": \"\"\n      }\n    }\n  ]\n}"
            }
          },
          "metadata": {},
          "execution_count": 6
        }
      ]
    },
    {
      "cell_type": "markdown",
      "source": [
        "### **1.3. Informasi Umum Dataset**\n",
        "\n",
        "Fungsi `df.info()` digunakan untuk menampilkan ringkasan umum dari DataFrame, yang mencakup beberapa aspek penting:\n",
        "\n",
        "* Total jumlah entri (sampel) dan jumlah kolom yang ada.\n",
        "* Nama setiap kolom beserta jumlah data non-null di dalamnya, yang berguna untuk mendeteksi adanya nilai yang hilang.\n",
        "* Jenis data (Dtype) dari masing-masing kolom, seperti `float64`, `int64`, atau `object`.\n",
        "* Estimasi penggunaan memori oleh DataFrame.\n",
        "\n",
        "Melalui output dari `df.info()`, kita dapat dengan cepat mengetahui apakah ada kolom yang memiliki nilai non-null lebih sedikit dari jumlah total entri, yang menandakan keberadaan data yang hilang.\n"
      ],
      "metadata": {
        "id": "4lhLaRYKh673"
      }
    },
    {
      "cell_type": "code",
      "source": [
        "print(\"\\nInformasi Umum Dataset:\")\n",
        "df.info()"
      ],
      "metadata": {
        "colab": {
          "base_uri": "https://localhost:8080/"
        },
        "id": "s9ZrJLlXKmXQ",
        "outputId": "9aa41be7-72d5-4533-d252-d3776392916f"
      },
      "execution_count": null,
      "outputs": [
        {
          "output_type": "stream",
          "name": "stdout",
          "text": [
            "\n",
            "Informasi Umum Dataset:\n",
            "<class 'pandas.core.frame.DataFrame'>\n",
            "RangeIndex: 1599 entries, 0 to 1598\n",
            "Data columns (total 12 columns):\n",
            " #   Column                Non-Null Count  Dtype  \n",
            "---  ------                --------------  -----  \n",
            " 0   fixed acidity         1599 non-null   float64\n",
            " 1   volatile acidity      1599 non-null   float64\n",
            " 2   citric acid           1599 non-null   float64\n",
            " 3   residual sugar        1599 non-null   float64\n",
            " 4   chlorides             1599 non-null   float64\n",
            " 5   free sulfur dioxide   1599 non-null   float64\n",
            " 6   total sulfur dioxide  1599 non-null   float64\n",
            " 7   density               1599 non-null   float64\n",
            " 8   pH                    1599 non-null   float64\n",
            " 9   sulphates             1599 non-null   float64\n",
            " 10  alcohol               1599 non-null   float64\n",
            " 11  quality               1599 non-null   int64  \n",
            "dtypes: float64(11), int64(1)\n",
            "memory usage: 150.0 KB\n"
          ]
        }
      ]
    },
    {
      "cell_type": "markdown",
      "source": [
        "### **1.4. Statistik Deskriptif**\n",
        "\n",
        "Fungsi `df.describe()` menghasilkan ringkasan statistik deskriptif untuk kolom-kolom numerik dalam dataset, yang mencakup:\n",
        "\n",
        "* **count**: Jumlah data non-null.\n",
        "* **mean**: Nilai rata-rata.\n",
        "* **std**: Standar deviasi.\n",
        "* **min**: Nilai terkecil.\n",
        "* **25%, 50%, 75%**: Nilai kuartil, termasuk median (50%).\n",
        "* **max**: Nilai terbesar.\n",
        "\n",
        "Statistik ini membantu memahami distribusi data, mengidentifikasi kemungkinan adanya outlier, serta mengetahui rentang nilai dari tiap fitur. Misalnya, jika ditemukan fitur dengan rentang nilai yang sangat besar, hal ini dapat menjadi pertimbangan untuk dilakukan proses scaling pada tahap preprocessing.\n"
      ],
      "metadata": {
        "id": "O_N6xOrph_Nd"
      }
    },
    {
      "cell_type": "code",
      "source": [
        "print(\"\\nStatistik Deskriptif Dataset:\")\n",
        "df.describe()"
      ],
      "metadata": {
        "colab": {
          "base_uri": "https://localhost:8080/",
          "height": 389
        },
        "id": "w9ZpBTWILpcO",
        "outputId": "3dc933a3-5c97-405b-bf09-2246508dfc58"
      },
      "execution_count": null,
      "outputs": [
        {
          "output_type": "stream",
          "name": "stdout",
          "text": [
            "\n",
            "Statistik Deskriptif Dataset:\n"
          ]
        },
        {
          "output_type": "execute_result",
          "data": {
            "text/plain": [
              "       fixed acidity  volatile acidity  citric acid  residual sugar  \\\n",
              "count    1599.000000       1599.000000  1599.000000     1599.000000   \n",
              "mean        8.319637          0.527821     0.270976        2.538806   \n",
              "std         1.741096          0.179060     0.194801        1.409928   \n",
              "min         4.600000          0.120000     0.000000        0.900000   \n",
              "25%         7.100000          0.390000     0.090000        1.900000   \n",
              "50%         7.900000          0.520000     0.260000        2.200000   \n",
              "75%         9.200000          0.640000     0.420000        2.600000   \n",
              "max        15.900000          1.580000     1.000000       15.500000   \n",
              "\n",
              "         chlorides  free sulfur dioxide  total sulfur dioxide      density  \\\n",
              "count  1599.000000          1599.000000           1599.000000  1599.000000   \n",
              "mean      0.087467            15.874922             46.467792     0.996747   \n",
              "std       0.047065            10.460157             32.895324     0.001887   \n",
              "min       0.012000             1.000000              6.000000     0.990070   \n",
              "25%       0.070000             7.000000             22.000000     0.995600   \n",
              "50%       0.079000            14.000000             38.000000     0.996750   \n",
              "75%       0.090000            21.000000             62.000000     0.997835   \n",
              "max       0.611000            72.000000            289.000000     1.003690   \n",
              "\n",
              "                pH    sulphates      alcohol      quality  \n",
              "count  1599.000000  1599.000000  1599.000000  1599.000000  \n",
              "mean      3.311113     0.658149    10.422983     5.636023  \n",
              "std       0.154386     0.169507     1.065668     0.807569  \n",
              "min       2.740000     0.330000     8.400000     3.000000  \n",
              "25%       3.210000     0.550000     9.500000     5.000000  \n",
              "50%       3.310000     0.620000    10.200000     6.000000  \n",
              "75%       3.400000     0.730000    11.100000     6.000000  \n",
              "max       4.010000     2.000000    14.900000     8.000000  "
            ],
            "text/html": [
              "\n",
              "  <div id=\"df-c3df6069-7094-4b86-9b4e-0c72b4f3c9a0\" class=\"colab-df-container\">\n",
              "    <div>\n",
              "<style scoped>\n",
              "    .dataframe tbody tr th:only-of-type {\n",
              "        vertical-align: middle;\n",
              "    }\n",
              "\n",
              "    .dataframe tbody tr th {\n",
              "        vertical-align: top;\n",
              "    }\n",
              "\n",
              "    .dataframe thead th {\n",
              "        text-align: right;\n",
              "    }\n",
              "</style>\n",
              "<table border=\"1\" class=\"dataframe\">\n",
              "  <thead>\n",
              "    <tr style=\"text-align: right;\">\n",
              "      <th></th>\n",
              "      <th>fixed acidity</th>\n",
              "      <th>volatile acidity</th>\n",
              "      <th>citric acid</th>\n",
              "      <th>residual sugar</th>\n",
              "      <th>chlorides</th>\n",
              "      <th>free sulfur dioxide</th>\n",
              "      <th>total sulfur dioxide</th>\n",
              "      <th>density</th>\n",
              "      <th>pH</th>\n",
              "      <th>sulphates</th>\n",
              "      <th>alcohol</th>\n",
              "      <th>quality</th>\n",
              "    </tr>\n",
              "  </thead>\n",
              "  <tbody>\n",
              "    <tr>\n",
              "      <th>count</th>\n",
              "      <td>1599.000000</td>\n",
              "      <td>1599.000000</td>\n",
              "      <td>1599.000000</td>\n",
              "      <td>1599.000000</td>\n",
              "      <td>1599.000000</td>\n",
              "      <td>1599.000000</td>\n",
              "      <td>1599.000000</td>\n",
              "      <td>1599.000000</td>\n",
              "      <td>1599.000000</td>\n",
              "      <td>1599.000000</td>\n",
              "      <td>1599.000000</td>\n",
              "      <td>1599.000000</td>\n",
              "    </tr>\n",
              "    <tr>\n",
              "      <th>mean</th>\n",
              "      <td>8.319637</td>\n",
              "      <td>0.527821</td>\n",
              "      <td>0.270976</td>\n",
              "      <td>2.538806</td>\n",
              "      <td>0.087467</td>\n",
              "      <td>15.874922</td>\n",
              "      <td>46.467792</td>\n",
              "      <td>0.996747</td>\n",
              "      <td>3.311113</td>\n",
              "      <td>0.658149</td>\n",
              "      <td>10.422983</td>\n",
              "      <td>5.636023</td>\n",
              "    </tr>\n",
              "    <tr>\n",
              "      <th>std</th>\n",
              "      <td>1.741096</td>\n",
              "      <td>0.179060</td>\n",
              "      <td>0.194801</td>\n",
              "      <td>1.409928</td>\n",
              "      <td>0.047065</td>\n",
              "      <td>10.460157</td>\n",
              "      <td>32.895324</td>\n",
              "      <td>0.001887</td>\n",
              "      <td>0.154386</td>\n",
              "      <td>0.169507</td>\n",
              "      <td>1.065668</td>\n",
              "      <td>0.807569</td>\n",
              "    </tr>\n",
              "    <tr>\n",
              "      <th>min</th>\n",
              "      <td>4.600000</td>\n",
              "      <td>0.120000</td>\n",
              "      <td>0.000000</td>\n",
              "      <td>0.900000</td>\n",
              "      <td>0.012000</td>\n",
              "      <td>1.000000</td>\n",
              "      <td>6.000000</td>\n",
              "      <td>0.990070</td>\n",
              "      <td>2.740000</td>\n",
              "      <td>0.330000</td>\n",
              "      <td>8.400000</td>\n",
              "      <td>3.000000</td>\n",
              "    </tr>\n",
              "    <tr>\n",
              "      <th>25%</th>\n",
              "      <td>7.100000</td>\n",
              "      <td>0.390000</td>\n",
              "      <td>0.090000</td>\n",
              "      <td>1.900000</td>\n",
              "      <td>0.070000</td>\n",
              "      <td>7.000000</td>\n",
              "      <td>22.000000</td>\n",
              "      <td>0.995600</td>\n",
              "      <td>3.210000</td>\n",
              "      <td>0.550000</td>\n",
              "      <td>9.500000</td>\n",
              "      <td>5.000000</td>\n",
              "    </tr>\n",
              "    <tr>\n",
              "      <th>50%</th>\n",
              "      <td>7.900000</td>\n",
              "      <td>0.520000</td>\n",
              "      <td>0.260000</td>\n",
              "      <td>2.200000</td>\n",
              "      <td>0.079000</td>\n",
              "      <td>14.000000</td>\n",
              "      <td>38.000000</td>\n",
              "      <td>0.996750</td>\n",
              "      <td>3.310000</td>\n",
              "      <td>0.620000</td>\n",
              "      <td>10.200000</td>\n",
              "      <td>6.000000</td>\n",
              "    </tr>\n",
              "    <tr>\n",
              "      <th>75%</th>\n",
              "      <td>9.200000</td>\n",
              "      <td>0.640000</td>\n",
              "      <td>0.420000</td>\n",
              "      <td>2.600000</td>\n",
              "      <td>0.090000</td>\n",
              "      <td>21.000000</td>\n",
              "      <td>62.000000</td>\n",
              "      <td>0.997835</td>\n",
              "      <td>3.400000</td>\n",
              "      <td>0.730000</td>\n",
              "      <td>11.100000</td>\n",
              "      <td>6.000000</td>\n",
              "    </tr>\n",
              "    <tr>\n",
              "      <th>max</th>\n",
              "      <td>15.900000</td>\n",
              "      <td>1.580000</td>\n",
              "      <td>1.000000</td>\n",
              "      <td>15.500000</td>\n",
              "      <td>0.611000</td>\n",
              "      <td>72.000000</td>\n",
              "      <td>289.000000</td>\n",
              "      <td>1.003690</td>\n",
              "      <td>4.010000</td>\n",
              "      <td>2.000000</td>\n",
              "      <td>14.900000</td>\n",
              "      <td>8.000000</td>\n",
              "    </tr>\n",
              "  </tbody>\n",
              "</table>\n",
              "</div>\n",
              "    <div class=\"colab-df-buttons\">\n",
              "\n",
              "  <div class=\"colab-df-container\">\n",
              "    <button class=\"colab-df-convert\" onclick=\"convertToInteractive('df-c3df6069-7094-4b86-9b4e-0c72b4f3c9a0')\"\n",
              "            title=\"Convert this dataframe to an interactive table.\"\n",
              "            style=\"display:none;\">\n",
              "\n",
              "  <svg xmlns=\"http://www.w3.org/2000/svg\" height=\"24px\" viewBox=\"0 -960 960 960\">\n",
              "    <path d=\"M120-120v-720h720v720H120Zm60-500h600v-160H180v160Zm220 220h160v-160H400v160Zm0 220h160v-160H400v160ZM180-400h160v-160H180v160Zm440 0h160v-160H620v160ZM180-180h160v-160H180v160Zm440 0h160v-160H620v160Z\"/>\n",
              "  </svg>\n",
              "    </button>\n",
              "\n",
              "  <style>\n",
              "    .colab-df-container {\n",
              "      display:flex;\n",
              "      gap: 12px;\n",
              "    }\n",
              "\n",
              "    .colab-df-convert {\n",
              "      background-color: #E8F0FE;\n",
              "      border: none;\n",
              "      border-radius: 50%;\n",
              "      cursor: pointer;\n",
              "      display: none;\n",
              "      fill: #1967D2;\n",
              "      height: 32px;\n",
              "      padding: 0 0 0 0;\n",
              "      width: 32px;\n",
              "    }\n",
              "\n",
              "    .colab-df-convert:hover {\n",
              "      background-color: #E2EBFA;\n",
              "      box-shadow: 0px 1px 2px rgba(60, 64, 67, 0.3), 0px 1px 3px 1px rgba(60, 64, 67, 0.15);\n",
              "      fill: #174EA6;\n",
              "    }\n",
              "\n",
              "    .colab-df-buttons div {\n",
              "      margin-bottom: 4px;\n",
              "    }\n",
              "\n",
              "    [theme=dark] .colab-df-convert {\n",
              "      background-color: #3B4455;\n",
              "      fill: #D2E3FC;\n",
              "    }\n",
              "\n",
              "    [theme=dark] .colab-df-convert:hover {\n",
              "      background-color: #434B5C;\n",
              "      box-shadow: 0px 1px 3px 1px rgba(0, 0, 0, 0.15);\n",
              "      filter: drop-shadow(0px 1px 2px rgba(0, 0, 0, 0.3));\n",
              "      fill: #FFFFFF;\n",
              "    }\n",
              "  </style>\n",
              "\n",
              "    <script>\n",
              "      const buttonEl =\n",
              "        document.querySelector('#df-c3df6069-7094-4b86-9b4e-0c72b4f3c9a0 button.colab-df-convert');\n",
              "      buttonEl.style.display =\n",
              "        google.colab.kernel.accessAllowed ? 'block' : 'none';\n",
              "\n",
              "      async function convertToInteractive(key) {\n",
              "        const element = document.querySelector('#df-c3df6069-7094-4b86-9b4e-0c72b4f3c9a0');\n",
              "        const dataTable =\n",
              "          await google.colab.kernel.invokeFunction('convertToInteractive',\n",
              "                                                    [key], {});\n",
              "        if (!dataTable) return;\n",
              "\n",
              "        const docLinkHtml = 'Like what you see? Visit the ' +\n",
              "          '<a target=\"_blank\" href=https://colab.research.google.com/notebooks/data_table.ipynb>data table notebook</a>'\n",
              "          + ' to learn more about interactive tables.';\n",
              "        element.innerHTML = '';\n",
              "        dataTable['output_type'] = 'display_data';\n",
              "        await google.colab.output.renderOutput(dataTable, element);\n",
              "        const docLink = document.createElement('div');\n",
              "        docLink.innerHTML = docLinkHtml;\n",
              "        element.appendChild(docLink);\n",
              "      }\n",
              "    </script>\n",
              "  </div>\n",
              "\n",
              "\n",
              "    <div id=\"df-8656780b-26da-4a00-af80-a67528c5702e\">\n",
              "      <button class=\"colab-df-quickchart\" onclick=\"quickchart('df-8656780b-26da-4a00-af80-a67528c5702e')\"\n",
              "                title=\"Suggest charts\"\n",
              "                style=\"display:none;\">\n",
              "\n",
              "<svg xmlns=\"http://www.w3.org/2000/svg\" height=\"24px\"viewBox=\"0 0 24 24\"\n",
              "     width=\"24px\">\n",
              "    <g>\n",
              "        <path d=\"M19 3H5c-1.1 0-2 .9-2 2v14c0 1.1.9 2 2 2h14c1.1 0 2-.9 2-2V5c0-1.1-.9-2-2-2zM9 17H7v-7h2v7zm4 0h-2V7h2v10zm4 0h-2v-4h2v4z\"/>\n",
              "    </g>\n",
              "</svg>\n",
              "      </button>\n",
              "\n",
              "<style>\n",
              "  .colab-df-quickchart {\n",
              "      --bg-color: #E8F0FE;\n",
              "      --fill-color: #1967D2;\n",
              "      --hover-bg-color: #E2EBFA;\n",
              "      --hover-fill-color: #174EA6;\n",
              "      --disabled-fill-color: #AAA;\n",
              "      --disabled-bg-color: #DDD;\n",
              "  }\n",
              "\n",
              "  [theme=dark] .colab-df-quickchart {\n",
              "      --bg-color: #3B4455;\n",
              "      --fill-color: #D2E3FC;\n",
              "      --hover-bg-color: #434B5C;\n",
              "      --hover-fill-color: #FFFFFF;\n",
              "      --disabled-bg-color: #3B4455;\n",
              "      --disabled-fill-color: #666;\n",
              "  }\n",
              "\n",
              "  .colab-df-quickchart {\n",
              "    background-color: var(--bg-color);\n",
              "    border: none;\n",
              "    border-radius: 50%;\n",
              "    cursor: pointer;\n",
              "    display: none;\n",
              "    fill: var(--fill-color);\n",
              "    height: 32px;\n",
              "    padding: 0;\n",
              "    width: 32px;\n",
              "  }\n",
              "\n",
              "  .colab-df-quickchart:hover {\n",
              "    background-color: var(--hover-bg-color);\n",
              "    box-shadow: 0 1px 2px rgba(60, 64, 67, 0.3), 0 1px 3px 1px rgba(60, 64, 67, 0.15);\n",
              "    fill: var(--button-hover-fill-color);\n",
              "  }\n",
              "\n",
              "  .colab-df-quickchart-complete:disabled,\n",
              "  .colab-df-quickchart-complete:disabled:hover {\n",
              "    background-color: var(--disabled-bg-color);\n",
              "    fill: var(--disabled-fill-color);\n",
              "    box-shadow: none;\n",
              "  }\n",
              "\n",
              "  .colab-df-spinner {\n",
              "    border: 2px solid var(--fill-color);\n",
              "    border-color: transparent;\n",
              "    border-bottom-color: var(--fill-color);\n",
              "    animation:\n",
              "      spin 1s steps(1) infinite;\n",
              "  }\n",
              "\n",
              "  @keyframes spin {\n",
              "    0% {\n",
              "      border-color: transparent;\n",
              "      border-bottom-color: var(--fill-color);\n",
              "      border-left-color: var(--fill-color);\n",
              "    }\n",
              "    20% {\n",
              "      border-color: transparent;\n",
              "      border-left-color: var(--fill-color);\n",
              "      border-top-color: var(--fill-color);\n",
              "    }\n",
              "    30% {\n",
              "      border-color: transparent;\n",
              "      border-left-color: var(--fill-color);\n",
              "      border-top-color: var(--fill-color);\n",
              "      border-right-color: var(--fill-color);\n",
              "    }\n",
              "    40% {\n",
              "      border-color: transparent;\n",
              "      border-right-color: var(--fill-color);\n",
              "      border-top-color: var(--fill-color);\n",
              "    }\n",
              "    60% {\n",
              "      border-color: transparent;\n",
              "      border-right-color: var(--fill-color);\n",
              "    }\n",
              "    80% {\n",
              "      border-color: transparent;\n",
              "      border-right-color: var(--fill-color);\n",
              "      border-bottom-color: var(--fill-color);\n",
              "    }\n",
              "    90% {\n",
              "      border-color: transparent;\n",
              "      border-bottom-color: var(--fill-color);\n",
              "    }\n",
              "  }\n",
              "</style>\n",
              "\n",
              "      <script>\n",
              "        async function quickchart(key) {\n",
              "          const quickchartButtonEl =\n",
              "            document.querySelector('#' + key + ' button');\n",
              "          quickchartButtonEl.disabled = true;  // To prevent multiple clicks.\n",
              "          quickchartButtonEl.classList.add('colab-df-spinner');\n",
              "          try {\n",
              "            const charts = await google.colab.kernel.invokeFunction(\n",
              "                'suggestCharts', [key], {});\n",
              "          } catch (error) {\n",
              "            console.error('Error during call to suggestCharts:', error);\n",
              "          }\n",
              "          quickchartButtonEl.classList.remove('colab-df-spinner');\n",
              "          quickchartButtonEl.classList.add('colab-df-quickchart-complete');\n",
              "        }\n",
              "        (() => {\n",
              "          let quickchartButtonEl =\n",
              "            document.querySelector('#df-8656780b-26da-4a00-af80-a67528c5702e button');\n",
              "          quickchartButtonEl.style.display =\n",
              "            google.colab.kernel.accessAllowed ? 'block' : 'none';\n",
              "        })();\n",
              "      </script>\n",
              "    </div>\n",
              "\n",
              "    </div>\n",
              "  </div>\n"
            ],
            "application/vnd.google.colaboratory.intrinsic+json": {
              "type": "dataframe",
              "summary": "{\n  \"name\": \"df\",\n  \"rows\": 8,\n  \"fields\": [\n    {\n      \"column\": \"fixed acidity\",\n      \"properties\": {\n        \"dtype\": \"number\",\n        \"std\": 562.5806745048905,\n        \"min\": 1.7410963181277006,\n        \"max\": 1599.0,\n        \"num_unique_values\": 8,\n        \"samples\": [\n          8.31963727329581,\n          7.9,\n          1599.0\n        ],\n        \"semantic_type\": \"\",\n        \"description\": \"\"\n      }\n    },\n    {\n      \"column\": \"volatile acidity\",\n      \"properties\": {\n        \"dtype\": \"number\",\n        \"std\": 565.1321980080039,\n        \"min\": 0.12,\n        \"max\": 1599.0,\n        \"num_unique_values\": 8,\n        \"samples\": [\n          0.5278205128205128,\n          0.52,\n          1599.0\n        ],\n        \"semantic_type\": \"\",\n        \"description\": \"\"\n      }\n    },\n    {\n      \"column\": \"citric acid\",\n      \"properties\": {\n        \"dtype\": \"number\",\n        \"std\": 565.2190298438521,\n        \"min\": 0.0,\n        \"max\": 1599.0,\n        \"num_unique_values\": 8,\n        \"samples\": [\n          0.2709756097560976,\n          0.26,\n          1599.0\n        ],\n        \"semantic_type\": \"\",\n        \"description\": \"\"\n      }\n    },\n    {\n      \"column\": \"residual sugar\",\n      \"properties\": {\n        \"dtype\": \"number\",\n        \"std\": 563.9859918397556,\n        \"min\": 0.9,\n        \"max\": 1599.0,\n        \"num_unique_values\": 8,\n        \"samples\": [\n          2.53880550343965,\n          2.2,\n          1599.0\n        ],\n        \"semantic_type\": \"\",\n        \"description\": \"\"\n      }\n    },\n    {\n      \"column\": \"chlorides\",\n      \"properties\": {\n        \"dtype\": \"number\",\n        \"std\": 565.2815720420848,\n        \"min\": 0.012,\n        \"max\": 1599.0,\n        \"num_unique_values\": 8,\n        \"samples\": [\n          0.08746654158849279,\n          0.079,\n          1599.0\n        ],\n        \"semantic_type\": \"\",\n        \"description\": \"\"\n      }\n    },\n    {\n      \"column\": \"free sulfur dioxide\",\n      \"properties\": {\n        \"dtype\": \"number\",\n        \"std\": 558.6255652064851,\n        \"min\": 1.0,\n        \"max\": 1599.0,\n        \"num_unique_values\": 8,\n        \"samples\": [\n          15.874921826141339,\n          14.0,\n          1599.0\n        ],\n        \"semantic_type\": \"\",\n        \"description\": \"\"\n      }\n    },\n    {\n      \"column\": \"total sulfur dioxide\",\n      \"properties\": {\n        \"dtype\": \"number\",\n        \"std\": 547.7946740169228,\n        \"min\": 6.0,\n        \"max\": 1599.0,\n        \"num_unique_values\": 8,\n        \"samples\": [\n          46.46779237023139,\n          38.0,\n          1599.0\n        ],\n        \"semantic_type\": \"\",\n        \"description\": \"\"\n      }\n    },\n    {\n      \"column\": \"density\",\n      \"properties\": {\n        \"dtype\": \"number\",\n        \"std\": 565.0298129526797,\n        \"min\": 0.0018873339538425559,\n        \"max\": 1599.0,\n        \"num_unique_values\": 8,\n        \"samples\": [\n          0.9967466791744841,\n          0.99675,\n          1599.0\n        ],\n        \"semantic_type\": \"\",\n        \"description\": \"\"\n      }\n    },\n    {\n      \"column\": \"pH\",\n      \"properties\": {\n        \"dtype\": \"number\",\n        \"std\": 564.3160746075233,\n        \"min\": 0.15438646490354266,\n        \"max\": 1599.0,\n        \"num_unique_values\": 8,\n        \"samples\": [\n          3.3111131957473416,\n          3.31,\n          1599.0\n        ],\n        \"semantic_type\": \"\",\n        \"description\": \"\"\n      }\n    },\n    {\n      \"column\": \"sulphates\",\n      \"properties\": {\n        \"dtype\": \"number\",\n        \"std\": 565.0766914059569,\n        \"min\": 0.16950697959010977,\n        \"max\": 1599.0,\n        \"num_unique_values\": 8,\n        \"samples\": [\n          0.6581488430268917,\n          0.62,\n          1599.0\n        ],\n        \"semantic_type\": \"\",\n        \"description\": \"\"\n      }\n    },\n    {\n      \"column\": \"alcohol\",\n      \"properties\": {\n        \"dtype\": \"number\",\n        \"std\": 562.0325260314485,\n        \"min\": 1.0656675818473926,\n        \"max\": 1599.0,\n        \"num_unique_values\": 8,\n        \"samples\": [\n          10.422983114446529,\n          10.2,\n          1599.0\n        ],\n        \"semantic_type\": \"\",\n        \"description\": \"\"\n      }\n    },\n    {\n      \"column\": \"quality\",\n      \"properties\": {\n        \"dtype\": \"number\",\n        \"std\": 563.5963817822504,\n        \"min\": 0.8075694397347023,\n        \"max\": 1599.0,\n        \"num_unique_values\": 7,\n        \"samples\": [\n          1599.0,\n          5.6360225140712945,\n          6.0\n        ],\n        \"semantic_type\": \"\",\n        \"description\": \"\"\n      }\n    }\n  ]\n}"
            }
          },
          "metadata": {},
          "execution_count": 8
        }
      ]
    },
    {
      "cell_type": "markdown",
      "source": [
        "### **1.5. Memeriksa Missing Values**\n",
        "\n",
        "Mengetahui adanya missing values (NaN/null) dalam dataset sangat penting karena dapat berdampak negatif pada kinerja model machine learning. Untuk mendeteksinya, digunakan fungsi `df.isnull().sum()` yang menghitung jumlah missing values di setiap kolom. Jika ditemukan kolom dengan nilai null, maka perlu ditentukan langkah penanganan yang sesuai pada tahap data preprocessing, seperti melakukan imputasi atau menghapus baris/kolom yang terpengaruh."
      ],
      "metadata": {
        "id": "5MLoUR1yiPRr"
      }
    },
    {
      "cell_type": "code",
      "source": [
        "print(\"\\nJumlah Missing Values per Kolom:\")\n",
        "df.isnull().sum()"
      ],
      "metadata": {
        "colab": {
          "base_uri": "https://localhost:8080/",
          "height": 495
        },
        "id": "g2hTV7P-Lu9d",
        "outputId": "7a8a5d7e-044f-46c0-b1f1-efd17e778a9c"
      },
      "execution_count": null,
      "outputs": [
        {
          "output_type": "stream",
          "name": "stdout",
          "text": [
            "\n",
            "Jumlah Missing Values per Kolom:\n"
          ]
        },
        {
          "output_type": "execute_result",
          "data": {
            "text/plain": [
              "fixed acidity           0\n",
              "volatile acidity        0\n",
              "citric acid             0\n",
              "residual sugar          0\n",
              "chlorides               0\n",
              "free sulfur dioxide     0\n",
              "total sulfur dioxide    0\n",
              "density                 0\n",
              "pH                      0\n",
              "sulphates               0\n",
              "alcohol                 0\n",
              "quality                 0\n",
              "dtype: int64"
            ],
            "text/html": [
              "<div>\n",
              "<style scoped>\n",
              "    .dataframe tbody tr th:only-of-type {\n",
              "        vertical-align: middle;\n",
              "    }\n",
              "\n",
              "    .dataframe tbody tr th {\n",
              "        vertical-align: top;\n",
              "    }\n",
              "\n",
              "    .dataframe thead th {\n",
              "        text-align: right;\n",
              "    }\n",
              "</style>\n",
              "<table border=\"1\" class=\"dataframe\">\n",
              "  <thead>\n",
              "    <tr style=\"text-align: right;\">\n",
              "      <th></th>\n",
              "      <th>0</th>\n",
              "    </tr>\n",
              "  </thead>\n",
              "  <tbody>\n",
              "    <tr>\n",
              "      <th>fixed acidity</th>\n",
              "      <td>0</td>\n",
              "    </tr>\n",
              "    <tr>\n",
              "      <th>volatile acidity</th>\n",
              "      <td>0</td>\n",
              "    </tr>\n",
              "    <tr>\n",
              "      <th>citric acid</th>\n",
              "      <td>0</td>\n",
              "    </tr>\n",
              "    <tr>\n",
              "      <th>residual sugar</th>\n",
              "      <td>0</td>\n",
              "    </tr>\n",
              "    <tr>\n",
              "      <th>chlorides</th>\n",
              "      <td>0</td>\n",
              "    </tr>\n",
              "    <tr>\n",
              "      <th>free sulfur dioxide</th>\n",
              "      <td>0</td>\n",
              "    </tr>\n",
              "    <tr>\n",
              "      <th>total sulfur dioxide</th>\n",
              "      <td>0</td>\n",
              "    </tr>\n",
              "    <tr>\n",
              "      <th>density</th>\n",
              "      <td>0</td>\n",
              "    </tr>\n",
              "    <tr>\n",
              "      <th>pH</th>\n",
              "      <td>0</td>\n",
              "    </tr>\n",
              "    <tr>\n",
              "      <th>sulphates</th>\n",
              "      <td>0</td>\n",
              "    </tr>\n",
              "    <tr>\n",
              "      <th>alcohol</th>\n",
              "      <td>0</td>\n",
              "    </tr>\n",
              "    <tr>\n",
              "      <th>quality</th>\n",
              "      <td>0</td>\n",
              "    </tr>\n",
              "  </tbody>\n",
              "</table>\n",
              "</div><br><label><b>dtype:</b> int64</label>"
            ]
          },
          "metadata": {},
          "execution_count": 9
        }
      ]
    },
    {
      "cell_type": "markdown",
      "source": [
        "### **1.6 Memeriksa Data Duplikat**\n",
        "\n",
        "Data duplikat merujuk pada baris-baris yang identik dan muncul lebih dari satu kali dalam dataset. Keberadaan duplikat dapat memicu bias atau overfitting pada model karena informasi yang sama digunakan berulang kali. Fungsi `df.duplicated().sum()` digunakan untuk menghitung jumlah baris yang terduplikasi. Jika ditemukan duplikat, langkah yang umum dilakukan adalah menghapus baris tersebut agar data yang digunakan lebih akurat dan representatif."
      ],
      "metadata": {
        "id": "eJ_26ABPaFw5"
      }
    },
    {
      "cell_type": "code",
      "source": [
        "df.duplicated().sum()"
      ],
      "metadata": {
        "colab": {
          "base_uri": "https://localhost:8080/"
        },
        "id": "f8MxIFofXxkD",
        "outputId": "cf92a212-1069-4d1a-c535-8c087052ec45"
      },
      "execution_count": null,
      "outputs": [
        {
          "output_type": "execute_result",
          "data": {
            "text/plain": [
              "np.int64(240)"
            ]
          },
          "metadata": {},
          "execution_count": 10
        }
      ]
    },
    {
      "cell_type": "markdown",
      "source": [
        "### **1.7. Menghapus Data Duplikat**\n",
        "\n",
        "Untuk memastikan dataset hanya terdiri dari data yang unik dan bebas dari duplikasi, digunakan perintah: `df = df.drop_duplicates()`. Kode ini secara otomatis menghapus seluruh baris yang teridentifikasi sebagai duplikat, lalu menyimpan hasilnya kembali ke variabel `df`. Dengan langkah ini, dataset menjadi lebih bersih dan layak digunakan dalam proses training model.\n"
      ],
      "metadata": {
        "id": "0F3HFXowaTo5"
      }
    },
    {
      "cell_type": "code",
      "source": [
        "df = df.drop_duplicates()\n"
      ],
      "metadata": {
        "id": "55Qut5-MZDT_"
      },
      "execution_count": null,
      "outputs": []
    },
    {
      "cell_type": "markdown",
      "source": [
        "### **1.8. Memeriksa Outlier dengan Metode IQR**\n",
        "\n",
        "Outlier merupakan nilai-nilai ekstrem yang menyimpang jauh dari sebagian besar data dalam fitur numerik. Keberadaan outlier dapat memengaruhi performa model machine learning, sehingga perlu diidentifikasi dan ditangani dengan tepat.\n",
        "Salah satu metode umum untuk mendeteksi outlier adalah **Interquartile Range (IQR)**. Langkah ini melibatkan perhitungan batas bawah dan atas sebagai berikut:\n",
        "\n",
        "* **Batas bawah** = Q1 − 1.5 × IQR\n",
        "* **Batas atas** = Q3 + 1.5 × IQR\n",
        "\n",
        "Nilai yang berada di luar rentang tersebut dianggap sebagai outlier. Untuk menemukan baris yang mengandung outlier pada kolom numerik tertentu, dapat digunakan kode berikut:\n",
        "\n",
        "```python\n",
        "df[(df[col] < lower_bound) | (df[col] > upper_bound)]\n",
        "```\n",
        "\n",
        "Kode ini akan menampilkan baris-baris yang nilai pada kolom tertentu berada di luar batas IQR.\n"
      ],
      "metadata": {
        "id": "i-MRI097aioU"
      }
    },
    {
      "cell_type": "code",
      "source": [
        "outlier_summary = {}\n",
        "\n",
        "for col in df.columns:\n",
        "    if df[col].dtype != 'object':  # hanya fitur numerik\n",
        "        Q1 = df[col].quantile(0.25)\n",
        "        Q3 = df[col].quantile(0.75)\n",
        "        IQR = Q3 - Q1\n",
        "        lower_bound = Q1 - 1.5 * IQR\n",
        "        upper_bound = Q3 + 1.5 * IQR\n",
        "\n",
        "        outliers = df[(df[col] < lower_bound) | (df[col] > upper_bound)]\n",
        "        outlier_summary[col] = len(outliers)\n",
        "\n",
        "print(\"Jumlah Outlier per Kolom (metode IQR):\")\n",
        "for feature, count in outlier_summary.items():\n",
        "    print(f\"{feature}: {count} outliers\")\n"
      ],
      "metadata": {
        "colab": {
          "base_uri": "https://localhost:8080/"
        },
        "id": "Vj2pGglQYN7v",
        "outputId": "37314511-a36c-44d3-8211-19d84a4613c1"
      },
      "execution_count": null,
      "outputs": [
        {
          "output_type": "stream",
          "name": "stdout",
          "text": [
            "Jumlah Outlier per Kolom (metode IQR):\n",
            "fixed acidity: 41 outliers\n",
            "volatile acidity: 19 outliers\n",
            "citric acid: 1 outliers\n",
            "residual sugar: 126 outliers\n",
            "chlorides: 87 outliers\n",
            "free sulfur dioxide: 26 outliers\n",
            "total sulfur dioxide: 45 outliers\n",
            "density: 35 outliers\n",
            "pH: 28 outliers\n",
            "sulphates: 55 outliers\n",
            "alcohol: 12 outliers\n",
            "quality: 27 outliers\n"
          ]
        }
      ]
    },
    {
      "cell_type": "markdown",
      "source": [
        "### **1.9. Menangani Outlier dengan Capping (Winsorizing)**\n",
        "\n",
        "Setelah outlier teridentifikasi, perlu dilakukan penanganan agar nilai-nilai ekstrem tersebut tidak memberikan dampak negatif terhadap performa model. Salah satu metode yang sering digunakan adalah **capping** atau **winsorizing**, yaitu dengan menggantikan nilai outlier menggunakan batas bawah atau atas yang telah dihitung berdasarkan metode IQR.\n",
        "\n",
        "Contoh pendekatannya:\n",
        "\n",
        "* Jika suatu nilai lebih kecil dari batas bawah, maka diganti dengan nilai batas bawah.\n",
        "* Jika suatu nilai melebihi batas atas, maka diganti dengan nilai batas atas.\n",
        "\n",
        "Metode ini memungkinkan data tetap utuh tanpa menghapus baris, namun tetap mengurangi pengaruh nilai-nilai ekstrem.\n",
        "Berikut contoh implementasi kodenya:\n",
        "\n",
        "```python\n",
        "df[col] = np.where(df[col] < lower_bound, lower_bound, df[col])\n",
        "df[col] = np.where(df[col] > upper_bound, upper_bound, df[col])\n",
        "```"
      ],
      "metadata": {
        "id": "Gxqv2c6ya19N"
      }
    },
    {
      "cell_type": "code",
      "source": [
        "def cap_outliers_iqr(df):\n",
        "    df_capped = df.copy()\n",
        "    for col in df_capped.columns:\n",
        "        if df_capped[col].dtype != 'object':\n",
        "            Q1 = df_capped[col].quantile(0.25)\n",
        "            Q3 = df_capped[col].quantile(0.75)\n",
        "            IQR = Q3 - Q1\n",
        "            lower_bound = Q1 - 1.5 * IQR\n",
        "            upper_bound = Q3 + 1.5 * IQR\n",
        "\n",
        "            df_capped[col] = np.where(df_capped[col] < lower_bound, lower_bound, df_capped[col])\n",
        "            df_capped[col] = np.where(df_capped[col] > upper_bound, upper_bound, df_capped[col])\n",
        "    return df_capped\n",
        "\n",
        "df_capped = cap_outliers_iqr(df)"
      ],
      "metadata": {
        "id": "zBF5ggvrZtXx"
      },
      "execution_count": null,
      "outputs": []
    },
    {
      "cell_type": "markdown",
      "source": [
        "# **2. Data Preparation**\n",
        "\n",
        "Meskipun dataset ini relatif bebas dari nilai yang hilang, tetap diperlukan beberapa langkah penting agar data benar-benar siap digunakan dalam proses pelatihan model machine learning.\n",
        "\n",
        "### **2.1. Mendefinisikan Masalah (Klasifikasi Kualitas Anggur)**\n",
        "\n",
        "Kolom `quality` pada awalnya berisi nilai diskrit antara 3 hingga 8. Nilai ini bisa diperlakukan sebagai masalah regresi atau klasifikasi multi-kelas. Namun, dalam proyek ini, kita menyederhanakannya menjadi **klasifikasi biner** dengan mengelompokkan kualitas anggur ke dalam dua kategori:\n",
        "\n",
        "* **\"Buruk\" (0):** Untuk anggur dengan nilai kualitas di bawah 6 (yaitu 3, 4, atau 5).\n",
        "* **\"Baik\" (1):** Untuk anggur dengan nilai kualitas 6 atau lebih tinggi (yaitu 6, 7, atau 8).\n",
        "\n",
        "Proses ini dilakukan dengan menambahkan kolom baru bernama `quality_label`, yang dibuat menggunakan fungsi `apply` berdasarkan nilai pada kolom `quality`. Tujuannya adalah menyederhanakan masalah sehingga lebih mudah dianalisis sebagai klasifikasi dua kelas. Selain itu, distribusi dari label baru juga diperiksa untuk melihat apakah kelas target berada dalam kondisi seimbang atau tidak."
      ],
      "metadata": {
        "id": "7csxJI8viXSB"
      }
    },
    {
      "cell_type": "code",
      "source": [
        "df['quality_label'] = df['quality'].apply(lambda x: 1 if x >= 6 else 0) # 1 for Good, 0 for Bad\n",
        "\n",
        "print(\"\\nDistribusi Kolom 'quality_label' (0=Bad, 1=Good):\")\n",
        "print(df['quality_label'].value_counts())\n",
        "\n",
        "print(\"\\n5 Baris Pertama Dataset dengan quality_label baru:\")\n",
        "print(df.head())"
      ],
      "metadata": {
        "colab": {
          "base_uri": "https://localhost:8080/"
        },
        "id": "mO3iTLsWM7cp",
        "outputId": "6449f4a7-cdaf-455a-9684-acd7feb09c3d"
      },
      "execution_count": null,
      "outputs": [
        {
          "output_type": "stream",
          "name": "stdout",
          "text": [
            "\n",
            "Distribusi Kolom 'quality_label' (0=Bad, 1=Good):\n",
            "quality_label\n",
            "1    719\n",
            "0    640\n",
            "Name: count, dtype: int64\n",
            "\n",
            "5 Baris Pertama Dataset dengan quality_label baru:\n",
            "   fixed acidity  volatile acidity  citric acid  residual sugar  chlorides  \\\n",
            "0            7.4              0.70         0.00             1.9      0.076   \n",
            "1            7.8              0.88         0.00             2.6      0.098   \n",
            "2            7.8              0.76         0.04             2.3      0.092   \n",
            "3           11.2              0.28         0.56             1.9      0.075   \n",
            "5            7.4              0.66         0.00             1.8      0.075   \n",
            "\n",
            "   free sulfur dioxide  total sulfur dioxide  density    pH  sulphates  \\\n",
            "0                 11.0                  34.0   0.9978  3.51       0.56   \n",
            "1                 25.0                  67.0   0.9968  3.20       0.68   \n",
            "2                 15.0                  54.0   0.9970  3.26       0.65   \n",
            "3                 17.0                  60.0   0.9980  3.16       0.58   \n",
            "5                 13.0                  40.0   0.9978  3.51       0.56   \n",
            "\n",
            "   alcohol  quality  quality_label  \n",
            "0      9.4        5              0  \n",
            "1      9.8        5              0  \n",
            "2      9.8        5              0  \n",
            "3      9.8        6              1  \n",
            "5      9.4        5              0  \n"
          ]
        }
      ]
    },
    {
      "cell_type": "markdown",
      "source": [
        "### **2.2. Pemisahan Fitur (X) dan Target (y)**\n",
        "\n",
        "Dalam proses machine learning, dataset biasanya dibagi menjadi dua komponen utama:\n",
        "\n",
        "* **Fitur (X):** Variabel independen yang digunakan model untuk melakukan prediksi. Pada kasus ini, fitur terdiri dari seluruh kolom yang menggambarkan karakteristik fisik dan kimiawi anggur, kecuali kolom `quality` asli dan kolom `quality_label` yang baru dibuat.\n",
        "* **Target (y):** Variabel dependen yang menjadi sasaran prediksi, yaitu kolom `quality_label` yang menunjukkan kategori 'Baik' atau 'Buruk'.\n",
        "\n",
        "Untuk memisahkan fitur dan target, digunakan fungsi `df.drop()` untuk menghilangkan kolom target dari DataFrame fitur (`X`), sementara kolom target disimpan pada variabel `y`. Setelah itu, bentuk (`shape`) dari `X` dan `y` dicetak untuk memastikan bahwa proses pemisahan data telah berjalan dengan benar."
      ],
      "metadata": {
        "id": "_p50856rifHn"
      }
    },
    {
      "cell_type": "code",
      "source": [
        "X = df.drop(['quality', 'quality_label'], axis=1) # Hapus kolom 'quality' asli dan 'quality_label' dari fitur\n",
        "y = df['quality_label'] # Target adalah kolom 'quality_label'\n",
        "\n",
        "print(\"\\nBentuk X (Fitur):\", X.shape)\n",
        "print(\"Bentuk y (Target):\", y.shape)\n",
        "print(\"\\nContoh Fitur (X):\")\n",
        "print(X.head())\n",
        "print(\"\\nContoh Target (y):\")\n",
        "print(y.head())"
      ],
      "metadata": {
        "colab": {
          "base_uri": "https://localhost:8080/"
        },
        "id": "vY_CPGACNHoq",
        "outputId": "863bd577-c181-4f72-9b39-cdbf30f1ea31"
      },
      "execution_count": null,
      "outputs": [
        {
          "output_type": "stream",
          "name": "stdout",
          "text": [
            "\n",
            "Bentuk X (Fitur): (1359, 11)\n",
            "Bentuk y (Target): (1359,)\n",
            "\n",
            "Contoh Fitur (X):\n",
            "   fixed acidity  volatile acidity  citric acid  residual sugar  chlorides  \\\n",
            "0            7.4              0.70         0.00             1.9      0.076   \n",
            "1            7.8              0.88         0.00             2.6      0.098   \n",
            "2            7.8              0.76         0.04             2.3      0.092   \n",
            "3           11.2              0.28         0.56             1.9      0.075   \n",
            "5            7.4              0.66         0.00             1.8      0.075   \n",
            "\n",
            "   free sulfur dioxide  total sulfur dioxide  density    pH  sulphates  \\\n",
            "0                 11.0                  34.0   0.9978  3.51       0.56   \n",
            "1                 25.0                  67.0   0.9968  3.20       0.68   \n",
            "2                 15.0                  54.0   0.9970  3.26       0.65   \n",
            "3                 17.0                  60.0   0.9980  3.16       0.58   \n",
            "5                 13.0                  40.0   0.9978  3.51       0.56   \n",
            "\n",
            "   alcohol  \n",
            "0      9.4  \n",
            "1      9.8  \n",
            "2      9.8  \n",
            "3      9.8  \n",
            "5      9.4  \n",
            "\n",
            "Contoh Target (y):\n",
            "0    0\n",
            "1    0\n",
            "2    0\n",
            "3    1\n",
            "5    0\n",
            "Name: quality_label, dtype: int64\n"
          ]
        }
      ]
    },
    {
      "cell_type": "markdown",
      "source": [
        "### **2.3. Pemisahan Data Training dan Testing**\n",
        "\n",
        "Setelah fitur dan target dipisahkan, langkah berikutnya adalah membagi dataset menjadi dua bagian utama:\n",
        "\n",
        "* **Train Data:** Digunakan untuk melatih model agar dapat mempelajari pola dari data.\n",
        "* **Test Data:** Digunakan untuk mengukur performa model pada data yang belum pernah dilihat sebelumnya, sehingga bisa menilai kemampuan model dalam menggeneralisasi.\n",
        "\n",
        "Pembagian ini dilakukan menggunakan fungsi `train_test_split` dari pustaka `sklearn.model_selection` dengan parameter sebagai berikut:\n",
        "\n",
        "* `test_size=0.20`, yang berarti 20% data dialokasikan sebagai testing data.\n",
        "* `random_state=42` untuk memastikan bahwa pembagian data konsisten dan dapat direproduksi setiap kali kode dijalankan.\n",
        "* `stratify=y` digunakan khusus pada kasus klasifikasi biner agar proporsi kelas pada data training dan testing tetap seimbang dan mencerminkan distribusi kelas di dataset asli."
      ],
      "metadata": {
        "id": "Hma64fiGBmRo"
      }
    },
    {
      "cell_type": "code",
      "source": [
        "X_train, X_test, y_train, y_test = train_test_split(X, y, test_size=0.20, random_state=42, stratify=y)\n",
        "\n",
        "print(\"\\nBentuk X_train:\", X_train.shape)\n",
        "print(\"Bentuk X_test:\", X_test.shape)\n",
        "print(\"Bentuk y_train:\", y_train.shape)\n",
        "print(\"Bentuk y_test:\", y_test.shape)\n",
        "\n",
        "print(\"\\nDistribusi quality_label di X_train:\")\n",
        "print(y_train.value_counts(normalize=True))\n",
        "print(\"\\nDistribusi quality_label di X_test:\")\n",
        "print(y_test.value_counts(normalize=True))"
      ],
      "metadata": {
        "colab": {
          "base_uri": "https://localhost:8080/"
        },
        "id": "lIEWlms9BqQ-",
        "outputId": "6fcaf44d-7239-4780-d413-e0a330b093b7"
      },
      "execution_count": null,
      "outputs": [
        {
          "output_type": "stream",
          "name": "stdout",
          "text": [
            "\n",
            "Bentuk X_train: (1087, 11)\n",
            "Bentuk X_test: (272, 11)\n",
            "Bentuk y_train: (1087,)\n",
            "Bentuk y_test: (272,)\n",
            "\n",
            "Distribusi quality_label di X_train:\n",
            "quality_label\n",
            "1    0.528979\n",
            "0    0.471021\n",
            "Name: proportion, dtype: float64\n",
            "\n",
            "Distribusi quality_label di X_test:\n",
            "quality_label\n",
            "1    0.529412\n",
            "0    0.470588\n",
            "Name: proportion, dtype: float64\n"
          ]
        }
      ]
    },
    {
      "cell_type": "markdown",
      "source": [
        "### **2.4. Feature Scaling (StandardScaler)**\n",
        "\n",
        "Sebelum melakukan training model, penting untuk menerapkan feature scaling. Proses ini menyesuaikan rentang nilai fitur agar memiliki rata-rata nol dan standar deviasi satu. Scaling sangat penting terutama untuk algoritma yang bergantung pada jarak atau optimasi gradien, seperti Logistic Regression, dan juga dapat memberikan manfaat pada model berbasis tree.\n"
      ],
      "metadata": {
        "id": "J-BuHkIrPZ2k"
      }
    },
    {
      "cell_type": "code",
      "source": [
        "scaler = StandardScaler()\n",
        "\n",
        "X_train_scaled = scaler.fit_transform(X_train)\n",
        "X_test_scaled = scaler.transform(X_test)\n",
        "\n",
        "print(\"\\nBentuk X_train_scaled:\", X_train_scaled.shape)\n",
        "print(\"Bentuk X_test_scaled:\", X_test_scaled.shape)\n",
        "print(\"\\nContoh X_train_scaled (beberapa baris pertama):\")\n",
        "print(X_train_scaled[:5])"
      ],
      "metadata": {
        "colab": {
          "base_uri": "https://localhost:8080/"
        },
        "id": "W2m4BJM1OL7a",
        "outputId": "223031d0-8b80-4999-9861-a8d4eb46d5cf"
      },
      "execution_count": null,
      "outputs": [
        {
          "output_type": "stream",
          "name": "stdout",
          "text": [
            "\n",
            "Bentuk X_train_scaled: (1087, 11)\n",
            "Bentuk X_test_scaled: (272, 11)\n",
            "\n",
            "Contoh X_train_scaled (beberapa baris pertama):\n",
            "[[-0.80501297 -0.44005013 -0.82741213 -0.10494156 -0.89140043 -0.94796257\n",
            "  -1.02254188 -1.6958439  -0.07691719 -0.05106472  0.88279414]\n",
            " [-0.80501297 -0.49436004 -1.38563404 -0.82372846 -0.36059695  1.5609402\n",
            "  -0.25719598 -1.24737265  0.05351804 -0.45496436  0.88279414]\n",
            " [-0.06068016 -0.54866994  0.0860419  -0.67997108 -0.14434368  1.0784589\n",
            "  -0.05114131 -0.366447   -0.40300527 -0.68576415 -0.13101094]\n",
            " [-1.14855119  0.10304892 -0.62442235 -0.5362137  -0.22298123  0.98196264\n",
            "  -0.34550512 -1.90940163  0.05351804  0.9298344   1.06712234]\n",
            " [-1.20580756 -0.38574023 -0.52292746 -0.67997108 -0.30161878 -0.85146631\n",
            "  -1.05197826 -1.31677892  1.9448289  -0.68576415  0.88279414]]\n"
          ]
        }
      ]
    },
    {
      "cell_type": "markdown",
      "source": [
        "# **3. Modeling**\n",
        "  Pada tahap ini, kita akan memilih, melatih, dan mengevaluasi beberapa model machine learning untuk memprediksi kualitas anggur. Kita akan mencoba Logistic Regression sebagai baseline, Random Forest Classifier yang akan kita tune, dan XGBoost Classifier yang dikenal memiliki performa tinggi."
      ],
      "metadata": {
        "id": "feCgPbIWX_Mn"
      }
    },
    {
      "cell_type": "code",
      "source": [
        "X_train, X_test, y_train, y_test = train_test_split(X, y, test_size=0.20, random_state=42, stratify=y)\n",
        "\n",
        "print(\"\\nBentuk X_train:\", X_train.shape)\n",
        "print(\"Bentuk X_test:\", X_test.shape)\n",
        "print(\"Bentuk y_train:\", y_train.shape)\n",
        "print(\"Bentuk y_test:\", y_test.shape)\n",
        "\n",
        "print(\"\\nDistribusi kelas di y_train:\")\n",
        "print(y_train.value_counts(normalize=True))\n",
        "print(\"\\nDistribusi kelas di y_test:\")\n",
        "print(y_test.value_counts(normalize=True))"
      ],
      "metadata": {
        "colab": {
          "base_uri": "https://localhost:8080/"
        },
        "id": "sTzH7XUPkJdf",
        "outputId": "d1b4f539-da2d-4e11-9c40-8581c8119cfe"
      },
      "execution_count": null,
      "outputs": [
        {
          "output_type": "stream",
          "name": "stdout",
          "text": [
            "\n",
            "Bentuk X_train: (1087, 11)\n",
            "Bentuk X_test: (272, 11)\n",
            "Bentuk y_train: (1087,)\n",
            "Bentuk y_test: (272,)\n",
            "\n",
            "Distribusi kelas di y_train:\n",
            "quality_label\n",
            "1    0.528979\n",
            "0    0.471021\n",
            "Name: proportion, dtype: float64\n",
            "\n",
            "Distribusi kelas di y_test:\n",
            "quality_label\n",
            "1    0.529412\n",
            "0    0.470588\n",
            "Name: proportion, dtype: float64\n"
          ]
        }
      ]
    },
    {
      "cell_type": "markdown",
      "source": [
        "### **3.1. Fungsi untuk Melatih dan Mengevaluasi Model**\n",
        "\n",
        "Agar tidak melakukan pekerjaan berulang, kita akan membuat sebuah fungsi yang dapat digunakan untuk training serta evaluating model klasifikasi apa pun. Fungsi ini akan menampilkan matrix seperti accuration, confusion matrix, dan classification report."
      ],
      "metadata": {
        "id": "6dZv9J-3ZmEz"
      }
    },
    {
      "cell_type": "code",
      "source": [
        "def train_and_evaluate_model(model, X_train, y_train, X_test, y_test, model_name):\n",
        "    \"\"\"\n",
        "    Melatih model dan mengevaluasinya dengan metrik klasifikasi.\n",
        "\n",
        "    Args:\n",
        "        model: Objek model scikit-learn yang akan dilatih.\n",
        "        X_train: Fitur data pelatihan.\n",
        "        y_train: Target data pelatihan.\n",
        "        X_test: Fitur data pengujian.\n",
        "        y_test: Target data pengujian.\n",
        "        model_name (str): Nama model untuk ditampilkan di output.\n",
        "    \"\"\"\n",
        "    print(f\"\\n--- Melatih Model {model_name} ---\")\n",
        "    model.fit(X_train, y_train)\n",
        "    print(f\"Model {model_name} berhasil dilatih.\")\n",
        "\n",
        "    y_pred = model.predict(X_test)\n",
        "\n",
        "    print(f\"\\n--- Evaluasi Model {model_name} ---\")\n",
        "    accuracy = accuracy_score(y_test, y_pred)\n",
        "    print(f\"Accuracy: {accuracy:.4f}\")\n",
        "\n",
        "    conf_matrix = confusion_matrix(y_test, y_pred)\n",
        "    print(\"\\nConfusion Matrix:\")\n",
        "    print(conf_matrix)\n",
        "\n",
        "    plt.figure(figsize=(6, 4))\n",
        "    sns.heatmap(conf_matrix, annot=True, fmt='d', cmap='Blues', cbar=False,\n",
        "                xticklabels=['Predicted Bad (0)', 'Predicted Good (1)'],\n",
        "                yticklabels=['Actual Bad (0)', 'Actual Good (1)'])\n",
        "    plt.title(f'Confusion Matrix - {model_name}')\n",
        "    plt.xlabel('Predicted Label')\n",
        "    plt.ylabel('True Label')\n",
        "    plt.show()\n",
        "\n",
        "    class_report = classification_report(y_test, y_pred)\n",
        "    print(\"\\nClassification Report:\")\n",
        "    print(class_report)\n",
        "\n",
        "    return accuracy, y_pred"
      ],
      "metadata": {
        "id": "3W0z8AaCNZUY"
      },
      "execution_count": null,
      "outputs": []
    },
    {
      "cell_type": "markdown",
      "source": [
        "### **3.2. Pelatihan dan Evaluasi Model Logistic Regression**\n",
        "\n",
        "Model Logistic Regression akan digunakan sebagai model dasar (baseline) dalam proses pelatihan dan evaluasi."
      ],
      "metadata": {
        "id": "7Jw8Y6nBZuyN"
      }
    },
    {
      "cell_type": "code",
      "source": [
        "log_reg_model = LogisticRegression(random_state=42, solver='liblinear') # 'liblinear' cocok untuk dataset kecil\n",
        "\n",
        "accuracy_lr, y_pred_lr = train_and_evaluate_model(\n",
        "    log_reg_model, X_train_scaled, y_train, X_test_scaled, y_test, \"Logistic Regression\"\n",
        ")"
      ],
      "metadata": {
        "colab": {
          "base_uri": "https://localhost:8080/",
          "height": 774
        },
        "id": "9jGI3tnaOOcF",
        "outputId": "0bb01d72-cd39-4ffb-e003-ccad474ad601"
      },
      "execution_count": null,
      "outputs": [
        {
          "output_type": "stream",
          "name": "stdout",
          "text": [
            "\n",
            "--- Melatih Model Logistic Regression ---\n",
            "Model Logistic Regression berhasil dilatih.\n",
            "\n",
            "--- Evaluasi Model Logistic Regression ---\n",
            "Accuracy: 0.7353\n",
            "\n",
            "Confusion Matrix:\n",
            "[[ 95  33]\n",
            " [ 39 105]]\n"
          ]
        },
        {
          "output_type": "display_data",
          "data": {
            "text/plain": [
              "<Figure size 600x400 with 1 Axes>"
            ],
            "image/png": "[encoded data removed]"
          },
          "metadata": {}
        },
        {
          "output_type": "stream",
          "name": "stdout",
          "text": [
            "\n",
            "Classification Report:\n",
            "              precision    recall  f1-score   support\n",
            "\n",
            "           0       0.71      0.74      0.73       128\n",
            "           1       0.76      0.73      0.74       144\n",
            "\n",
            "    accuracy                           0.74       272\n",
            "   macro avg       0.73      0.74      0.73       272\n",
            "weighted avg       0.74      0.74      0.74       272\n",
            "\n"
          ]
        }
      ]
    },
    {
      "cell_type": "markdown",
      "source": [
        "### **3.3. Pelatihan dan Evaluasi Model Random Forest Classifier**\n",
        "\n",
        "Untuk melakukan penyetelan hyperparameter, kita akan memanfaatkan `GridSearchCV` dengan `param_grid` yang berisi beberapa parameter berikut:\n",
        "\n",
        "* `n_estimators`: Jumlah pohon keputusan yang akan dibuat dalam hutan.\n",
        "* `max_features`: Banyaknya fitur yang dipertimbangkan saat melakukan pemisahan pada setiap node.\n",
        "* `max_depth`: Kedalaman maksimal dari setiap pohon.\n",
        "* `min_samples_split`: Jumlah minimum sampel yang diperlukan untuk membagi sebuah node internal.\n",
        "* `min_samples_leaf`: Jumlah minimum sampel yang harus ada pada setiap node daun."
      ],
      "metadata": {
        "id": "tiwr0v6Jkc-u"
      }
    },
    {
      "cell_type": "code",
      "source": [
        "# Definisikan parameter grid untuk tuning Random Forest\n",
        "param_grid_rf = {\n",
        "    'n_estimators': [100, 200, 300],\n",
        "    'max_features': ['sqrt', 'log2'],\n",
        "    'max_depth': [10, 20, None],\n",
        "    'min_samples_split': [2, 5],\n",
        "    'min_samples_leaf': [1, 2]\n",
        "}\n",
        "\n",
        "# Inisialisasi model Random Forest\n",
        "rf_model_base = RandomForestClassifier(random_state=42)\n",
        "\n",
        "# Inisialisasi GridSearchCV\n",
        "grid_search_rf = GridSearchCV(estimator=rf_model_base, param_grid=param_grid_rf,\n",
        "                              cv=5, scoring='accuracy', n_jobs=-1, verbose=1)\n",
        "\n",
        "print(\"\\n--- Memulai Hyperparameter Tuning untuk Random Forest (GridSearchCV) ---\")\n",
        "grid_search_rf.fit(X_train_scaled, y_train)\n",
        "print(\"Hyperparameter Tuning Random Forest selesai.\")\n",
        "\n",
        "# Mendapatkan model Random Forest terbaik dari GridSearchCV\n",
        "best_rf_model = grid_search_rf.best_estimator_\n",
        "\n",
        "print(\"\\nParameter Terbaik (Random Forest):\", grid_search_rf.best_params_)\n",
        "\n",
        "# Latih dan evaluasi model Random Forest terbaik\n",
        "accuracy_rf, y_pred_rf = train_and_evaluate_model(\n",
        "    best_rf_model, X_train_scaled, y_train, X_test_scaled, y_test, \"Random Forest (Tuned)\"\n",
        ")"
      ],
      "metadata": {
        "colab": {
          "base_uri": "https://localhost:8080/",
          "height": 899
        },
        "id": "ZXbEnAcdPL2T",
        "outputId": "63c124cf-1ca4-4fb8-b558-3aade8979f47"
      },
      "execution_count": null,
      "outputs": [
        {
          "output_type": "stream",
          "name": "stdout",
          "text": [
            "\n",
            "--- Memulai Hyperparameter Tuning untuk Random Forest (GridSearchCV) ---\n",
            "Fitting 5 folds for each of 72 candidates, totalling 360 fits\n",
            "Hyperparameter Tuning Random Forest selesai.\n",
            "\n",
            "Parameter Terbaik (Random Forest): {'max_depth': 10, 'max_features': 'sqrt', 'min_samples_leaf': 2, 'min_samples_split': 5, 'n_estimators': 300}\n",
            "\n",
            "--- Melatih Model Random Forest (Tuned) ---\n",
            "Model Random Forest (Tuned) berhasil dilatih.\n",
            "\n",
            "--- Evaluasi Model Random Forest (Tuned) ---\n",
            "Accuracy: 0.7721\n",
            "\n",
            "Confusion Matrix:\n",
            "[[101  27]\n",
            " [ 35 109]]\n"
          ]
        },
        {
          "output_type": "display_data",
          "data": {
            "text/plain": [
              "<Figure size 600x400 with 1 Axes>"
            ],
            "image/png": "[encoded data removed]"
          },
          "metadata": {}
        },
        {
          "output_type": "stream",
          "name": "stdout",
          "text": [
            "\n",
            "Classification Report:\n",
            "              precision    recall  f1-score   support\n",
            "\n",
            "           0       0.74      0.79      0.77       128\n",
            "           1       0.80      0.76      0.78       144\n",
            "\n",
            "    accuracy                           0.77       272\n",
            "   macro avg       0.77      0.77      0.77       272\n",
            "weighted avg       0.77      0.77      0.77       272\n",
            "\n"
          ]
        }
      ]
    },
    {
      "cell_type": "markdown",
      "source": [
        "### **3.4. Pelatihan dan Evaluasi Model XGBoost Classifier**\n",
        "\n",
        "XGBoost merupakan algoritma boosting yang efektif dan kuat, yang membangun serangkaian pohon keputusan secara berurutan untuk memperbaiki kesalahan pada iterasi sebelumnya. Untuk meningkatkan performanya, kita akan melakukan penyetelan hyperparameter menggunakan `GridSearchCV`.\n",
        "\n",
        "Berikut adalah hyperparameter utama yang akan dioptimalkan beserta rentang nilainya:\n",
        "\n",
        "* `n_estimators`: Jumlah pohon yang dibangun (`[100, 200, 300]`).\n",
        "* `learning_rate`: Besaran langkah pembelajaran (`[0.01, 0.05, 0.1]`).\n",
        "* `max_depth`: Kedalaman maksimal pohon (`[3, 5, 7]`).\n",
        "* `subsample`: Proporsi sampel data yang digunakan untuk setiap pohon (`[0.7, 0.8, 0.9]`).\n",
        "* `colsample_bytree`: Proporsi kolom atau fitur yang digunakan pada tiap pohon (`[0.7, 0.8, 0.9]`).\n",
        "* `gamma`: Ambang batas pengurangan loss minimum untuk melakukan pemisahan node (`[0, 0.1, 0.2]`).\n",
        "\n",
        "Setelah `GridSearchCV` menentukan kombinasi hyperparameter terbaik, model XGBoost hasil tuning akan dievaluasi untuk memperoleh akurasi akhir dan metrik performa lainnya.\n"
      ],
      "metadata": {
        "id": "KSBK285FpzWO"
      }
    },
    {
      "cell_type": "code",
      "source": [
        "param_grid_xgb = {\n",
        "    'n_estimators': [100, 200, 300],\n",
        "    'learning_rate': [0.01, 0.05, 0.1],\n",
        "    'max_depth': [3, 5, 7],\n",
        "    'subsample': [0.7, 0.8, 0.9],\n",
        "    'colsample_bytree': [0.7, 0.8, 0.9],\n",
        "    'gamma': [0, 0.1, 0.2]\n",
        "}\n",
        "\n",
        "# Inisialisasi model XGBoost\n",
        "xgb_model_tuned = xgb.XGBClassifier(objective='binary:logistic',\n",
        "                                    use_label_encoder=False,\n",
        "                                    eval_metric='logloss',\n",
        "                                    random_state=42)\n",
        "\n",
        "# Inisialisasi GridSearchCV\n",
        "grid_search_xgb = GridSearchCV(estimator=xgb_model_tuned, param_grid=param_grid_xgb,\n",
        "                               cv=5, scoring='accuracy', n_jobs=-1, verbose=1)\n",
        "\n",
        "# Latih GridSearchCV pada data training yang sudah di-scaling\n",
        "print(\"\\n--- Memulai Hyperparameter Tuning untuk XGBoost (GridSearchCV) ---\")\n",
        "grid_search_xgb.fit(X_train_scaled, y_train)\n",
        "print(\"Hyperparameter Tuning XGBoost selesai.\")\n",
        "\n",
        "# Menampilkan parameter terbaik yang ditemukan\n",
        "print(\"\\nParameter Terbaik (XGBoost):\", grid_search_xgb.best_params_)\n",
        "\n",
        "# Mendapatkan model terbaik\n",
        "best_xgb_model = grid_search_xgb.best_estimator_\n",
        "\n",
        "# Latih dan evaluasi model XGBoost terbaik\n",
        "accuracy_best_xgb, y_pred_best_xgb = train_and_evaluate_model(\n",
        "    best_xgb_model, X_train_scaled, y_train, X_test_scaled, y_test, \"XGBoost (Tuned)\"\n",
        ")"
      ],
      "metadata": {
        "colab": {
          "base_uri": "https://localhost:8080/",
          "height": 968
        },
        "id": "EbS1xqVsa5_o",
        "outputId": "b7ce9211-28d4-4b99-ad9d-00762a0caa18"
      },
      "execution_count": null,
      "outputs": [
        {
          "output_type": "stream",
          "name": "stdout",
          "text": [
            "\n",
            "--- Memulai Hyperparameter Tuning untuk XGBoost (GridSearchCV) ---\n",
            "Fitting 5 folds for each of 729 candidates, totalling 3645 fits\n"
          ]
        },
        {
          "output_type": "stream",
          "name": "stderr",
          "text": [
            "/usr/local/lib/python3.11/dist-packages/xgboost/core.py:158: UserWarning: [16:49:52] WARNING: /workspace/src/learner.cc:740: \n",
            "Parameters: { \"use_label_encoder\" } are not used.\n",
            "\n",
            "  warnings.warn(smsg, UserWarning)\n"
          ]
        },
        {
          "output_type": "stream",
          "name": "stdout",
          "text": [
            "Hyperparameter Tuning XGBoost selesai.\n",
            "\n",
            "Parameter Terbaik (XGBoost): {'colsample_bytree': 0.9, 'gamma': 0.1, 'learning_rate': 0.05, 'max_depth': 7, 'n_estimators': 100, 'subsample': 0.7}\n",
            "\n",
            "--- Melatih Model XGBoost (Tuned) ---\n",
            "Model XGBoost (Tuned) berhasil dilatih.\n",
            "\n",
            "--- Evaluasi Model XGBoost (Tuned) ---\n",
            "Accuracy: 0.7831\n",
            "\n",
            "Confusion Matrix:\n",
            "[[100  28]\n",
            " [ 31 113]]\n"
          ]
        },
        {
          "output_type": "display_data",
          "data": {
            "text/plain": [
              "<Figure size 600x400 with 1 Axes>"
            ],
            "image/png": "[encoded data removed]"
          },
          "metadata": {}
        },
        {
          "output_type": "stream",
          "name": "stdout",
          "text": [
            "\n",
            "Classification Report:\n",
            "              precision    recall  f1-score   support\n",
            "\n",
            "           0       0.76      0.78      0.77       128\n",
            "           1       0.80      0.78      0.79       144\n",
            "\n",
            "    accuracy                           0.78       272\n",
            "   macro avg       0.78      0.78      0.78       272\n",
            "weighted avg       0.78      0.78      0.78       272\n",
            "\n"
          ]
        }
      ]
    },
    {
      "cell_type": "markdown",
      "source": [
        "# **4. Evaluation**\n",
        "\n",
        "Setelah proses pelatihan dan penyetelan beberapa model selesai, tahap berikutnya adalah menilai performa masing-masing model dan melakukan perbandingan. Kita akan mengamati akurasi total dan membuat visualisasi untuk memudahkan perbandingan.\n",
        "\n",
        "### **4.1. Ringkasan Kinerja Model**\n",
        "\n",
        "Kita akan mengumpulkan dan menyajikan akurasi dari ketiga model yang sudah dilatih, yaitu Logistic Regression, Random Forest hasil tuning, dan XGBoost hasil tuning. Dengan ini, kita bisa memperoleh gambaran model mana yang memiliki performa terbaik."
      ],
      "metadata": {
        "id": "g7xa2VRdqUJh"
      }
    },
    {
      "cell_type": "code",
      "source": [
        "model_performance = pd.DataFrame({\n",
        "    'Model': ['Logistic Regression', 'Random Forest (Tuned)', 'XGBoost (Tuned)'], # <-- Nama model final yang konsisten\n",
        "    'Accuracy': [accuracy_lr, accuracy_rf, accuracy_best_xgb]\n",
        "})\n",
        "model_performance = model_performance.sort_values(by='Accuracy', ascending=False)\n",
        "\n",
        "print(\"\\n--- Ringkasan Performa Model ---\")\n",
        "print(model_performance)"
      ],
      "metadata": {
        "colab": {
          "base_uri": "https://localhost:8080/"
        },
        "id": "8P7LZqU2bDmH",
        "outputId": "103884f5-390d-4110-b1b8-8f62e517ecf2"
      },
      "execution_count": null,
      "outputs": [
        {
          "output_type": "stream",
          "name": "stdout",
          "text": [
            "\n",
            "--- Ringkasan Performa Model ---\n",
            "                   Model  Accuracy\n",
            "2        XGBoost (Tuned)  0.783088\n",
            "1  Random Forest (Tuned)  0.772059\n",
            "0    Logistic Regression  0.735294\n"
          ]
        }
      ]
    },
    {
      "cell_type": "markdown",
      "source": [
        "### **4.2. Visualisasi Perbandingan Akurasi Model**\n",
        "\n",
        "Agar lebih mudah dalam memahami hasil, kita akan menampilkan perbandingan akurasi model dalam bentuk grafik batang. Visualisasi ini memudahkan kita untuk langsung melihat model mana yang menunjukkan performa paling unggul."
      ],
      "metadata": {
        "id": "Kd_7mQh6q94q"
      }
    },
    {
      "cell_type": "code",
      "source": [
        "print(\"\\n--- Visualisasi Perbandingan Akurasi Model ---\")\n",
        "\n",
        "plt.figure(figsize=(10, 6)) # Ukuran plot\n",
        "sns.barplot(x='Model', y='Accuracy', data=model_performance, palette='viridis') # Membuat bar plot\n",
        "plt.ylim(0.70, 0.85) # Mengatur batas sumbu y untuk fokus pada rentang akurasi yang relevan\n",
        "plt.title('Perbandingan Akurasi Model Klasifikasi Kualitas Anggur', fontsize=16) # Judul plot\n",
        "plt.xlabel('Model', fontsize=12) # Label sumbu x\n",
        "plt.ylabel('Akurasi', fontsize=12) # Label sumbu y\n",
        "\n",
        "# Menambahkan nilai akurasi di atas setiap bar\n",
        "for index, row in model_performance.iterrows():\n",
        "    plt.text(index, row['Accuracy'] + 0.005, f\"{row['Accuracy']:.4f}\", color='black', ha=\"center\")\n",
        "\n",
        "plt.grid(axis='y', linestyle='--', alpha=0.7) # Menambahkan grid pada sumbu y\n",
        "plt.tight_layout() # Menyesuaikan tata letak agar rapi\n",
        "plt.show() # Menampilkan plot"
      ],
      "metadata": {
        "colab": {
          "base_uri": "https://localhost:8080/",
          "height": 748
        },
        "id": "mr75or-XfQcX",
        "outputId": "c1ae5cce-7561-49d2-c59b-a1d776383561"
      },
      "execution_count": null,
      "outputs": [
        {
          "output_type": "stream",
          "name": "stdout",
          "text": [
            "\n",
            "--- Visualisasi Perbandingan Akurasi Model ---\n"
          ]
        },
        {
          "output_type": "stream",
          "name": "stderr",
          "text": [
            "<ipython-input-24-28d0ad4c27a0>:4: FutureWarning: \n",
            "\n",
            "Passing `palette` without assigning `hue` is deprecated and will be removed in v0.14.0. Assign the `x` variable to `hue` and set `legend=False` for the same effect.\n",
            "\n",
            "  sns.barplot(x='Model', y='Accuracy', data=model_performance, palette='viridis') # Membuat bar plot\n"
          ]
        },
        {
          "output_type": "display_data",
          "data": {
            "text/plain": [
              "<Figure size 1000x600 with 1 Axes>"
            ],
            "image/png": "[encoded data removed]"
          },
          "metadata": {}
        }
      ]
    },
    {
      "cell_type": "markdown",
      "source": [
        "### **4.3. Analisis Pentingnya Fitur (Model Terbaik)**\n",
        "\n",
        "Untuk mengerti alasan di balik prediksi model terbaik kita (dalam hal ini XGBoost), kita bisa memeriksa feature importances. Informasi ini menunjukkan tingkat pengaruh setiap fitur terhadap keputusan model. Fitur dengan nilai *importance* yang lebih tinggi memiliki peran lebih besar dalam menentukan prediksi kualitas anggur."
      ],
      "metadata": {
        "id": "6lnh8BdurPO_"
      }
    },
    {
      "cell_type": "code",
      "source": [
        "# Setelah best_xgb_model (atau best_rf_model) dilatih\n",
        "if hasattr(best_xgb_model, 'feature_importances_'):\n",
        "    feature_importances = best_xgb_model.feature_importances_\n",
        "    features = X.columns # Asumsikan X adalah DataFrame asli sebelum scaling\n",
        "\n",
        "    importance_df = pd.DataFrame({'Feature': features, 'Importance': feature_importances})\n",
        "    importance_df = importance_df.sort_values(by='Importance', ascending=False)\n",
        "\n",
        "    print(\"\\n--- Feature Importances (XGBoost) ---\")\n",
        "    print(importance_df)\n",
        "\n",
        "    plt.figure(figsize=(10, 7))\n",
        "    sns.barplot(x='Importance', y='Feature', data=importance_df, palette='viridis')\n",
        "    plt.title('Feature Importances - XGBoost Classifier', fontsize=16)\n",
        "    plt.xlabel('Importance', fontsize=12)\n",
        "    plt.ylabel('Feature', fontsize=12)\n",
        "    plt.tight_layout()\n",
        "    plt.show()"
      ],
      "metadata": {
        "colab": {
          "base_uri": "https://localhost:8080/",
          "height": 1000
        },
        "id": "zBznn0ZFojN8",
        "outputId": "5c3034ec-b749-4a87-9a88-3396c00d505c"
      },
      "execution_count": null,
      "outputs": [
        {
          "output_type": "stream",
          "name": "stdout",
          "text": [
            "\n",
            "--- Feature Importances (XGBoost) ---\n",
            "                 Feature  Importance\n",
            "10               alcohol    0.222109\n",
            "9              sulphates    0.118566\n",
            "1       volatile acidity    0.091380\n",
            "6   total sulfur dioxide    0.084098\n",
            "7                density    0.078234\n",
            "8                     pH    0.071196\n",
            "4              chlorides    0.069561\n",
            "5    free sulfur dioxide    0.068759\n",
            "0          fixed acidity    0.067515\n",
            "2            citric acid    0.066262\n",
            "3         residual sugar    0.062320\n"
          ]
        },
        {
          "output_type": "stream",
          "name": "stderr",
          "text": [
            "<ipython-input-25-bbf9fa2365de>:13: FutureWarning: \n",
            "\n",
            "Passing `palette` without assigning `hue` is deprecated and will be removed in v0.14.0. Assign the `y` variable to `hue` and set `legend=False` for the same effect.\n",
            "\n",
            "  sns.barplot(x='Importance', y='Feature', data=importance_df, palette='viridis')\n"
          ]
        },
        {
          "output_type": "display_data",
          "data": {
            "text/plain": [
              "<Figure size 1000x700 with 1 Axes>"
            ],
            "image/png": "[encoded data removed]"
          },
          "metadata": {}
        }
      ]
    }
  ]
}